{
 "cells": [
  {
   "cell_type": "code",
   "execution_count": 68,
   "metadata": {},
   "outputs": [],
   "source": [
    "# Import required modules\n",
    "\n",
    "import numpy as np\n",
    "import pandas as pd\n",
    "import statistics\n",
    "\n",
    "from collections import Counter\n",
    "from tqdm import tqdm"
   ]
  },
  {
   "cell_type": "code",
   "execution_count": 69,
   "metadata": {},
   "outputs": [
    {
     "ename": "KeyboardInterrupt",
     "evalue": "",
     "output_type": "error",
     "traceback": [
      "\u001b[0;31m---------------------------------------------------------------------------\u001b[0m",
      "\u001b[0;31mKeyboardInterrupt\u001b[0m                         Traceback (most recent call last)",
      "Cell \u001b[0;32mIn[69], line 12\u001b[0m\n\u001b[1;32m     10\u001b[0m \u001b[38;5;66;03m# add datasets column by merging\u001b[39;00m\n\u001b[1;32m     11\u001b[0m allData \u001b[38;5;241m=\u001b[39m pd\u001b[38;5;241m.\u001b[39mmerge(geoAPS, geoSeries, how \u001b[38;5;241m=\u001b[39m \u001b[38;5;124m'\u001b[39m\u001b[38;5;124mouter\u001b[39m\u001b[38;5;124m'\u001b[39m, on \u001b[38;5;241m=\u001b[39m \u001b[38;5;124m'\u001b[39m\u001b[38;5;124mSeries\u001b[39m\u001b[38;5;124m'\u001b[39m)\n\u001b[0;32m---> 12\u001b[0m geoReference \u001b[38;5;241m=\u001b[39m \u001b[43mallData\u001b[49m\u001b[43m[\u001b[49m\u001b[43m[\u001b[49m\u001b[38;5;124;43m'\u001b[39;49m\u001b[38;5;124;43mSeries\u001b[39;49m\u001b[38;5;124;43m'\u001b[39;49m\u001b[43m,\u001b[49m\u001b[43m \u001b[49m\u001b[38;5;124;43m'\u001b[39;49m\u001b[38;5;124;43mAccession\u001b[39;49m\u001b[38;5;124;43m'\u001b[39;49m\u001b[43m,\u001b[49m\u001b[43m \u001b[49m\u001b[38;5;124;43m'\u001b[39;49m\u001b[38;5;124;43mPlatform\u001b[39;49m\u001b[38;5;124;43m'\u001b[39;49m\u001b[43m,\u001b[49m\u001b[43m \u001b[49m\u001b[38;5;124;43m'\u001b[39;49m\u001b[38;5;124;43mDatasets\u001b[39;49m\u001b[38;5;124;43m'\u001b[39;49m\u001b[43m]\u001b[49m\u001b[43m]\u001b[49m\u001b[38;5;241;43m.\u001b[39;49m\u001b[43mdrop_duplicates\u001b[49m\u001b[43m(\u001b[49m\u001b[43m)\u001b[49m\n",
      "File \u001b[0;32m~/miniconda3/envs/solidbin/lib/python3.8/site-packages/pandas/util/_decorators.py:331\u001b[0m, in \u001b[0;36mdeprecate_nonkeyword_arguments.<locals>.decorate.<locals>.wrapper\u001b[0;34m(*args, **kwargs)\u001b[0m\n\u001b[1;32m    325\u001b[0m \u001b[38;5;28;01mif\u001b[39;00m \u001b[38;5;28mlen\u001b[39m(args) \u001b[38;5;241m>\u001b[39m num_allow_args:\n\u001b[1;32m    326\u001b[0m     warnings\u001b[38;5;241m.\u001b[39mwarn(\n\u001b[1;32m    327\u001b[0m         msg\u001b[38;5;241m.\u001b[39mformat(arguments\u001b[38;5;241m=\u001b[39m_format_argument_list(allow_args)),\n\u001b[1;32m    328\u001b[0m         \u001b[38;5;167;01mFutureWarning\u001b[39;00m,\n\u001b[1;32m    329\u001b[0m         stacklevel\u001b[38;5;241m=\u001b[39mfind_stack_level(),\n\u001b[1;32m    330\u001b[0m     )\n\u001b[0;32m--> 331\u001b[0m \u001b[38;5;28;01mreturn\u001b[39;00m \u001b[43mfunc\u001b[49m\u001b[43m(\u001b[49m\u001b[38;5;241;43m*\u001b[39;49m\u001b[43margs\u001b[49m\u001b[43m,\u001b[49m\u001b[43m \u001b[49m\u001b[38;5;241;43m*\u001b[39;49m\u001b[38;5;241;43m*\u001b[39;49m\u001b[43mkwargs\u001b[49m\u001b[43m)\u001b[49m\n",
      "File \u001b[0;32m~/miniconda3/envs/solidbin/lib/python3.8/site-packages/pandas/core/frame.py:6672\u001b[0m, in \u001b[0;36mDataFrame.drop_duplicates\u001b[0;34m(self, subset, keep, inplace, ignore_index)\u001b[0m\n\u001b[1;32m   6670\u001b[0m inplace \u001b[38;5;241m=\u001b[39m validate_bool_kwarg(inplace, \u001b[38;5;124m\"\u001b[39m\u001b[38;5;124minplace\u001b[39m\u001b[38;5;124m\"\u001b[39m)\n\u001b[1;32m   6671\u001b[0m ignore_index \u001b[38;5;241m=\u001b[39m validate_bool_kwarg(ignore_index, \u001b[38;5;124m\"\u001b[39m\u001b[38;5;124mignore_index\u001b[39m\u001b[38;5;124m\"\u001b[39m)\n\u001b[0;32m-> 6672\u001b[0m duplicated \u001b[38;5;241m=\u001b[39m \u001b[38;5;28;43mself\u001b[39;49m\u001b[38;5;241;43m.\u001b[39;49m\u001b[43mduplicated\u001b[49m\u001b[43m(\u001b[49m\u001b[43msubset\u001b[49m\u001b[43m,\u001b[49m\u001b[43m \u001b[49m\u001b[43mkeep\u001b[49m\u001b[38;5;241;43m=\u001b[39;49m\u001b[43mkeep\u001b[49m\u001b[43m)\u001b[49m\n\u001b[1;32m   6674\u001b[0m result \u001b[38;5;241m=\u001b[39m \u001b[38;5;28mself\u001b[39m[\u001b[38;5;241m-\u001b[39mduplicated]\n\u001b[1;32m   6675\u001b[0m \u001b[38;5;28;01mif\u001b[39;00m ignore_index:\n",
      "File \u001b[0;32m~/miniconda3/envs/solidbin/lib/python3.8/site-packages/pandas/core/frame.py:6824\u001b[0m, in \u001b[0;36mDataFrame.duplicated\u001b[0;34m(self, subset, keep)\u001b[0m\n\u001b[1;32m   6814\u001b[0m     labels, shape \u001b[38;5;241m=\u001b[39m \u001b[38;5;28mmap\u001b[39m(\u001b[38;5;28mlist\u001b[39m, \u001b[38;5;28mzip\u001b[39m(\u001b[38;5;241m*\u001b[39m\u001b[38;5;28mmap\u001b[39m(f, vals)))\n\u001b[1;32m   6816\u001b[0m     ids \u001b[38;5;241m=\u001b[39m get_group_index(\n\u001b[1;32m   6817\u001b[0m         labels,\n\u001b[1;32m   6818\u001b[0m         \u001b[38;5;66;03m# error: Argument 1 to \"tuple\" has incompatible type \"List[_T]\";\u001b[39;00m\n\u001b[0;32m   (...)\u001b[0m\n\u001b[1;32m   6822\u001b[0m         xnull\u001b[38;5;241m=\u001b[39m\u001b[38;5;28;01mFalse\u001b[39;00m,\n\u001b[1;32m   6823\u001b[0m     )\n\u001b[0;32m-> 6824\u001b[0m     result \u001b[38;5;241m=\u001b[39m \u001b[38;5;28mself\u001b[39m\u001b[38;5;241m.\u001b[39m_constructor_sliced(\u001b[43mduplicated\u001b[49m\u001b[43m(\u001b[49m\u001b[43mids\u001b[49m\u001b[43m,\u001b[49m\u001b[43m \u001b[49m\u001b[43mkeep\u001b[49m\u001b[43m)\u001b[49m, index\u001b[38;5;241m=\u001b[39m\u001b[38;5;28mself\u001b[39m\u001b[38;5;241m.\u001b[39mindex)\n\u001b[1;32m   6825\u001b[0m \u001b[38;5;28;01mreturn\u001b[39;00m result\u001b[38;5;241m.\u001b[39m__finalize__(\u001b[38;5;28mself\u001b[39m, method\u001b[38;5;241m=\u001b[39m\u001b[38;5;124m\"\u001b[39m\u001b[38;5;124mduplicated\u001b[39m\u001b[38;5;124m\"\u001b[39m)\n",
      "\u001b[0;31mKeyboardInterrupt\u001b[0m: "
     ]
    }
   ],
   "source": [
    "# Import GEO reference data\n",
    "\n",
    "# import table with accession, platform, and series\n",
    "geoAPS = pd.read_csv('../data/geo_samples.csv')\n",
    "\n",
    "# import table with datasets IDs\n",
    "geoSeries = pd.read_csv('../data/geo_series.csv', low_memory = False)\n",
    "geoSeries.rename(columns={'Accession':'Series'}, inplace = True)\n",
    "\n",
    "# add datasets column by merging\n",
    "allData = pd.merge(geoAPS, geoSeries, how = 'outer', on = 'Series')\n",
    "geoReference = allData[['Series', 'Accession', 'Platform', 'Datasets']].drop_duplicates()"
   ]
  },
  {
   "cell_type": "code",
   "execution_count": null,
   "metadata": {},
   "outputs": [],
   "source": [
    "sra_reference_path = '../data/sra_complete_runs.csv'\n",
    "chunk_size = 100000\n",
    "chunk_iterator = pd.read_csv(sra_reference_path, chunksize=chunk_size)\n",
    "chunk_num = 0\n",
    "result_df = pd.DataFrame()"
   ]
  },
  {
   "cell_type": "code",
   "execution_count": null,
   "metadata": {},
   "outputs": [
    {
     "name": "stderr",
     "output_type": "stream",
     "text": [
      "/tmp/ipykernel_1273528/1696761591.py:1: DtypeWarning: Columns (3,4,5,6,7,16,17,22,23,27,30,31,32,33,35,37) have mixed types. Specify dtype option on import or set low_memory=False.\n",
      "  for chunk in chunk_iterator:\n"
     ]
    },
    {
     "name": "stdout",
     "output_type": "stream",
     "text": [
      "1\n",
      "2\n"
     ]
    },
    {
     "name": "stderr",
     "output_type": "stream",
     "text": [
      "/tmp/ipykernel_1273528/1696761591.py:1: DtypeWarning: Columns (3,4,5,6,7,16,17,22,23,27,30,31,32,33,35,37) have mixed types. Specify dtype option on import or set low_memory=False.\n",
      "  for chunk in chunk_iterator:\n"
     ]
    },
    {
     "name": "stdout",
     "output_type": "stream",
     "text": [
      "3\n"
     ]
    },
    {
     "name": "stderr",
     "output_type": "stream",
     "text": [
      "/tmp/ipykernel_1273528/1696761591.py:1: DtypeWarning: Columns (3,4,5,6,7,8,11,16,17,22,23,27,30,31,32,33,34,35,37,38,39,40,43) have mixed types. Specify dtype option on import or set low_memory=False.\n",
      "  for chunk in chunk_iterator:\n"
     ]
    },
    {
     "name": "stdout",
     "output_type": "stream",
     "text": [
      "4\n",
      "5\n",
      "6\n",
      "7\n",
      "8\n",
      "9\n",
      "10\n",
      "11\n",
      "12\n",
      "13\n",
      "14\n",
      "15\n",
      "16\n",
      "17\n",
      "18\n",
      "19\n",
      "20\n",
      "21\n",
      "22\n",
      "23\n",
      "24\n",
      "25\n",
      "26\n",
      "27\n"
     ]
    },
    {
     "name": "stderr",
     "output_type": "stream",
     "text": [
      "/tmp/ipykernel_1273528/1696761591.py:1: DtypeWarning: Columns (3,4,5,6,7,16,17,22,23,27,30,31,32,33,35,37,38,39,40,43) have mixed types. Specify dtype option on import or set low_memory=False.\n",
      "  for chunk in chunk_iterator:\n"
     ]
    },
    {
     "name": "stdout",
     "output_type": "stream",
     "text": [
      "28\n",
      "29\n",
      "30\n",
      "31\n",
      "32\n",
      "33\n",
      "34\n",
      "35\n",
      "36\n",
      "37\n"
     ]
    },
    {
     "name": "stderr",
     "output_type": "stream",
     "text": [
      "/tmp/ipykernel_1273528/1696761591.py:1: DtypeWarning: Columns (3,4,5,6,7,16,17,22,23,27,30,31,32,33,35,37) have mixed types. Specify dtype option on import or set low_memory=False.\n",
      "  for chunk in chunk_iterator:\n"
     ]
    },
    {
     "name": "stdout",
     "output_type": "stream",
     "text": [
      "38\n"
     ]
    },
    {
     "name": "stderr",
     "output_type": "stream",
     "text": [
      "/tmp/ipykernel_1273528/1696761591.py:1: DtypeWarning: Columns (3,4,5,6,7,16,17,22,23,27,30,31,32,33,35,37,38,39,43) have mixed types. Specify dtype option on import or set low_memory=False.\n",
      "  for chunk in chunk_iterator:\n"
     ]
    },
    {
     "name": "stdout",
     "output_type": "stream",
     "text": [
      "39\n",
      "40\n"
     ]
    },
    {
     "name": "stderr",
     "output_type": "stream",
     "text": [
      "/tmp/ipykernel_1273528/1696761591.py:1: DtypeWarning: Columns (3,4,5,6,7,16,17,22,23,27,30,31,32,35,37) have mixed types. Specify dtype option on import or set low_memory=False.\n",
      "  for chunk in chunk_iterator:\n"
     ]
    },
    {
     "name": "stdout",
     "output_type": "stream",
     "text": [
      "41\n"
     ]
    },
    {
     "name": "stderr",
     "output_type": "stream",
     "text": [
      "/tmp/ipykernel_1273528/1696761591.py:1: DtypeWarning: Columns (3,4,5,6,7,8,11,16,17,22,23,27,30,31,32,33,35,37,38,39,40,43) have mixed types. Specify dtype option on import or set low_memory=False.\n",
      "  for chunk in chunk_iterator:\n"
     ]
    },
    {
     "name": "stdout",
     "output_type": "stream",
     "text": [
      "42\n",
      "43\n",
      "44\n",
      "45\n",
      "46\n"
     ]
    },
    {
     "name": "stderr",
     "output_type": "stream",
     "text": [
      "/tmp/ipykernel_1273528/1696761591.py:1: DtypeWarning: Columns (3,4,5,6,7,16,17,22,23,27,30,31,32,33,35,37) have mixed types. Specify dtype option on import or set low_memory=False.\n",
      "  for chunk in chunk_iterator:\n"
     ]
    },
    {
     "name": "stdout",
     "output_type": "stream",
     "text": [
      "47\n"
     ]
    },
    {
     "name": "stderr",
     "output_type": "stream",
     "text": [
      "/tmp/ipykernel_1273528/1696761591.py:1: DtypeWarning: Columns (3,4,5,6,7,16,17,22,23,27,30,31,32,35,37) have mixed types. Specify dtype option on import or set low_memory=False.\n",
      "  for chunk in chunk_iterator:\n"
     ]
    },
    {
     "name": "stdout",
     "output_type": "stream",
     "text": [
      "48\n"
     ]
    },
    {
     "name": "stderr",
     "output_type": "stream",
     "text": [
      "/tmp/ipykernel_1273528/1696761591.py:1: DtypeWarning: Columns (3,4,5,6,7,16,17,22,23,27,30,31,32,33,35,37) have mixed types. Specify dtype option on import or set low_memory=False.\n",
      "  for chunk in chunk_iterator:\n"
     ]
    },
    {
     "name": "stdout",
     "output_type": "stream",
     "text": [
      "49\n",
      "50\n",
      "51\n"
     ]
    },
    {
     "name": "stderr",
     "output_type": "stream",
     "text": [
      "/tmp/ipykernel_1273528/1696761591.py:1: DtypeWarning: Columns (3,4,5,6,7,16,17,22,23,27,30,31,32,33,35,37) have mixed types. Specify dtype option on import or set low_memory=False.\n",
      "  for chunk in chunk_iterator:\n"
     ]
    },
    {
     "name": "stdout",
     "output_type": "stream",
     "text": [
      "52\n",
      "53\n",
      "54\n"
     ]
    },
    {
     "name": "stderr",
     "output_type": "stream",
     "text": [
      "/tmp/ipykernel_1273528/1696761591.py:1: DtypeWarning: Columns (3,4,5,6,7,16,17,22,23,27,30,31,32,35,37,39) have mixed types. Specify dtype option on import or set low_memory=False.\n",
      "  for chunk in chunk_iterator:\n"
     ]
    },
    {
     "name": "stdout",
     "output_type": "stream",
     "text": [
      "55\n",
      "56\n"
     ]
    },
    {
     "name": "stderr",
     "output_type": "stream",
     "text": [
      "/tmp/ipykernel_1273528/1696761591.py:1: DtypeWarning: Columns (3,4,5,6,7,16,17,22,23,27,30,31,32,33,35,37) have mixed types. Specify dtype option on import or set low_memory=False.\n",
      "  for chunk in chunk_iterator:\n"
     ]
    },
    {
     "name": "stdout",
     "output_type": "stream",
     "text": [
      "57\n"
     ]
    },
    {
     "name": "stderr",
     "output_type": "stream",
     "text": [
      "/tmp/ipykernel_1273528/1696761591.py:1: DtypeWarning: Columns (3,4,5,6,7,16,17,22,23,27,30,31,32,33,35,37) have mixed types. Specify dtype option on import or set low_memory=False.\n",
      "  for chunk in chunk_iterator:\n"
     ]
    },
    {
     "name": "stdout",
     "output_type": "stream",
     "text": [
      "58\n",
      "59\n"
     ]
    },
    {
     "name": "stderr",
     "output_type": "stream",
     "text": [
      "/tmp/ipykernel_1273528/1696761591.py:1: DtypeWarning: Columns (3,4,5,6,7,8,16,17,22,23,27,29,30,31,32,33,34,35,37,39,40) have mixed types. Specify dtype option on import or set low_memory=False.\n",
      "  for chunk in chunk_iterator:\n"
     ]
    },
    {
     "name": "stdout",
     "output_type": "stream",
     "text": [
      "60\n",
      "61\n"
     ]
    },
    {
     "name": "stderr",
     "output_type": "stream",
     "text": [
      "/tmp/ipykernel_1273528/1696761591.py:1: DtypeWarning: Columns (3,4,5,6,7,16,17,22,23,27,30,31,32,33,35,37) have mixed types. Specify dtype option on import or set low_memory=False.\n",
      "  for chunk in chunk_iterator:\n"
     ]
    },
    {
     "name": "stdout",
     "output_type": "stream",
     "text": [
      "62\n"
     ]
    },
    {
     "name": "stderr",
     "output_type": "stream",
     "text": [
      "/tmp/ipykernel_1273528/1696761591.py:1: DtypeWarning: Columns (3,4,5,6,7,16,17,22,23,27,30,31,32,33,35,37) have mixed types. Specify dtype option on import or set low_memory=False.\n",
      "  for chunk in chunk_iterator:\n"
     ]
    },
    {
     "name": "stdout",
     "output_type": "stream",
     "text": [
      "63\n",
      "64\n",
      "65\n",
      "66\n",
      "67\n",
      "68\n"
     ]
    },
    {
     "name": "stderr",
     "output_type": "stream",
     "text": [
      "/tmp/ipykernel_1273528/1696761591.py:1: DtypeWarning: Columns (3,4,5,6,7,16,17,22,23,27,30,31,32,33,35,37) have mixed types. Specify dtype option on import or set low_memory=False.\n",
      "  for chunk in chunk_iterator:\n"
     ]
    },
    {
     "name": "stdout",
     "output_type": "stream",
     "text": [
      "69\n",
      "70\n"
     ]
    },
    {
     "name": "stderr",
     "output_type": "stream",
     "text": [
      "/tmp/ipykernel_1273528/1696761591.py:1: DtypeWarning: Columns (3,4,5,6,7,16,17,22,23,27,30,31,32,33,35,37) have mixed types. Specify dtype option on import or set low_memory=False.\n",
      "  for chunk in chunk_iterator:\n"
     ]
    },
    {
     "name": "stdout",
     "output_type": "stream",
     "text": [
      "71\n"
     ]
    },
    {
     "name": "stderr",
     "output_type": "stream",
     "text": [
      "/tmp/ipykernel_1273528/1696761591.py:1: DtypeWarning: Columns (3,4,5,6,7,16,17,22,23,27,30,31,32,33,35,37) have mixed types. Specify dtype option on import or set low_memory=False.\n",
      "  for chunk in chunk_iterator:\n"
     ]
    },
    {
     "name": "stdout",
     "output_type": "stream",
     "text": [
      "72\n",
      "73\n"
     ]
    },
    {
     "name": "stderr",
     "output_type": "stream",
     "text": [
      "/tmp/ipykernel_1273528/1696761591.py:1: DtypeWarning: Columns (3,4,5,6,7,16,17,22,23,27,30,31,32,33,35,37,39,40) have mixed types. Specify dtype option on import or set low_memory=False.\n",
      "  for chunk in chunk_iterator:\n"
     ]
    },
    {
     "name": "stdout",
     "output_type": "stream",
     "text": [
      "74\n"
     ]
    },
    {
     "name": "stderr",
     "output_type": "stream",
     "text": [
      "/tmp/ipykernel_1273528/1696761591.py:1: DtypeWarning: Columns (3,4,5,6,7,16,17,22,23,27,30,31,32,33,35,37) have mixed types. Specify dtype option on import or set low_memory=False.\n",
      "  for chunk in chunk_iterator:\n"
     ]
    },
    {
     "name": "stdout",
     "output_type": "stream",
     "text": [
      "75\n",
      "76\n"
     ]
    },
    {
     "name": "stderr",
     "output_type": "stream",
     "text": [
      "/tmp/ipykernel_1273528/1696761591.py:1: DtypeWarning: Columns (3,4,5,6,7,16,17,22,23,27,30,31,32,33,35,37) have mixed types. Specify dtype option on import or set low_memory=False.\n",
      "  for chunk in chunk_iterator:\n"
     ]
    },
    {
     "name": "stdout",
     "output_type": "stream",
     "text": [
      "77\n"
     ]
    },
    {
     "name": "stderr",
     "output_type": "stream",
     "text": [
      "/tmp/ipykernel_1273528/1696761591.py:1: DtypeWarning: Columns (3,4,5,6,7,16,17,22,23,27,30,31,32,33,35,37) have mixed types. Specify dtype option on import or set low_memory=False.\n",
      "  for chunk in chunk_iterator:\n"
     ]
    },
    {
     "name": "stdout",
     "output_type": "stream",
     "text": [
      "78\n"
     ]
    },
    {
     "name": "stderr",
     "output_type": "stream",
     "text": [
      "/tmp/ipykernel_1273528/1696761591.py:1: DtypeWarning: Columns (3,4,5,6,7,16,17,22,23,27,30,31,32,33,35,37,39) have mixed types. Specify dtype option on import or set low_memory=False.\n",
      "  for chunk in chunk_iterator:\n"
     ]
    },
    {
     "name": "stdout",
     "output_type": "stream",
     "text": [
      "79\n",
      "80\n",
      "81\n",
      "82\n",
      "83\n"
     ]
    },
    {
     "name": "stderr",
     "output_type": "stream",
     "text": [
      "/tmp/ipykernel_1273528/1696761591.py:1: DtypeWarning: Columns (3,4,5,6,7,16,17,22,23,27,30,31,32,35,37) have mixed types. Specify dtype option on import or set low_memory=False.\n",
      "  for chunk in chunk_iterator:\n"
     ]
    },
    {
     "name": "stdout",
     "output_type": "stream",
     "text": [
      "84\n",
      "85\n"
     ]
    },
    {
     "name": "stderr",
     "output_type": "stream",
     "text": [
      "/tmp/ipykernel_1273528/1696761591.py:1: DtypeWarning: Columns (3,4,5,6,7,16,17,22,23,27,30,31,32,33,35,37) have mixed types. Specify dtype option on import or set low_memory=False.\n",
      "  for chunk in chunk_iterator:\n"
     ]
    },
    {
     "name": "stdout",
     "output_type": "stream",
     "text": [
      "86\n"
     ]
    },
    {
     "name": "stderr",
     "output_type": "stream",
     "text": [
      "/tmp/ipykernel_1273528/1696761591.py:1: DtypeWarning: Columns (3,4,5,6,7,16,17,22,23,27,30,31,32,33,35,37,39) have mixed types. Specify dtype option on import or set low_memory=False.\n",
      "  for chunk in chunk_iterator:\n"
     ]
    },
    {
     "name": "stdout",
     "output_type": "stream",
     "text": [
      "87\n"
     ]
    },
    {
     "name": "stderr",
     "output_type": "stream",
     "text": [
      "/tmp/ipykernel_1273528/1696761591.py:1: DtypeWarning: Columns (3,4,5,6,7,16,17,22,23,27,30,31,32,33,35,37) have mixed types. Specify dtype option on import or set low_memory=False.\n",
      "  for chunk in chunk_iterator:\n"
     ]
    },
    {
     "name": "stdout",
     "output_type": "stream",
     "text": [
      "88\n",
      "89\n",
      "90\n",
      "91\n"
     ]
    },
    {
     "name": "stderr",
     "output_type": "stream",
     "text": [
      "/tmp/ipykernel_1273528/1696761591.py:1: DtypeWarning: Columns (3,4,5,6,7,16,17,22,23,27,30,31,32,35,37) have mixed types. Specify dtype option on import or set low_memory=False.\n",
      "  for chunk in chunk_iterator:\n"
     ]
    },
    {
     "name": "stdout",
     "output_type": "stream",
     "text": [
      "92\n"
     ]
    },
    {
     "name": "stderr",
     "output_type": "stream",
     "text": [
      "/tmp/ipykernel_1273528/1696761591.py:1: DtypeWarning: Columns (3,4,5,6,7,16,17,22,23,27,30,31,32,33,35,37) have mixed types. Specify dtype option on import or set low_memory=False.\n",
      "  for chunk in chunk_iterator:\n"
     ]
    },
    {
     "name": "stdout",
     "output_type": "stream",
     "text": [
      "93\n"
     ]
    },
    {
     "name": "stderr",
     "output_type": "stream",
     "text": [
      "/tmp/ipykernel_1273528/1696761591.py:1: DtypeWarning: Columns (3,4,5,6,7,16,17,22,23,27,30,31,32,33,35,37) have mixed types. Specify dtype option on import or set low_memory=False.\n",
      "  for chunk in chunk_iterator:\n"
     ]
    },
    {
     "name": "stdout",
     "output_type": "stream",
     "text": [
      "94\n",
      "95\n",
      "96\n"
     ]
    },
    {
     "name": "stderr",
     "output_type": "stream",
     "text": [
      "/tmp/ipykernel_1273528/1696761591.py:1: DtypeWarning: Columns (3,4,5,6,7,16,17,22,23,27,30,31,32,33,35,37) have mixed types. Specify dtype option on import or set low_memory=False.\n",
      "  for chunk in chunk_iterator:\n"
     ]
    },
    {
     "name": "stdout",
     "output_type": "stream",
     "text": [
      "97\n"
     ]
    },
    {
     "name": "stderr",
     "output_type": "stream",
     "text": [
      "/tmp/ipykernel_1273528/1696761591.py:1: DtypeWarning: Columns (3,4,5,6,7,16,17,22,23,27,30,31,32,33,35,37,38,39,40,43) have mixed types. Specify dtype option on import or set low_memory=False.\n",
      "  for chunk in chunk_iterator:\n"
     ]
    },
    {
     "name": "stdout",
     "output_type": "stream",
     "text": [
      "98\n",
      "99\n",
      "100\n"
     ]
    },
    {
     "name": "stderr",
     "output_type": "stream",
     "text": [
      "/tmp/ipykernel_1273528/1696761591.py:1: DtypeWarning: Columns (3,4,5,6,7,16,17,22,23,27,30,31,32,37) have mixed types. Specify dtype option on import or set low_memory=False.\n",
      "  for chunk in chunk_iterator:\n"
     ]
    },
    {
     "name": "stdout",
     "output_type": "stream",
     "text": [
      "101\n",
      "102\n",
      "103\n"
     ]
    },
    {
     "name": "stderr",
     "output_type": "stream",
     "text": [
      "/tmp/ipykernel_1273528/1696761591.py:1: DtypeWarning: Columns (3,4,5,6,7,16,17,22,23,27,30,31,32,33,35,37) have mixed types. Specify dtype option on import or set low_memory=False.\n",
      "  for chunk in chunk_iterator:\n"
     ]
    },
    {
     "name": "stdout",
     "output_type": "stream",
     "text": [
      "104\n"
     ]
    },
    {
     "name": "stderr",
     "output_type": "stream",
     "text": [
      "/tmp/ipykernel_1273528/1696761591.py:1: DtypeWarning: Columns (3,4,5,6,7,16,17,22,23,27,30,31,32,33,35,37) have mixed types. Specify dtype option on import or set low_memory=False.\n",
      "  for chunk in chunk_iterator:\n"
     ]
    },
    {
     "name": "stdout",
     "output_type": "stream",
     "text": [
      "105\n"
     ]
    },
    {
     "name": "stderr",
     "output_type": "stream",
     "text": [
      "/tmp/ipykernel_1273528/1696761591.py:1: DtypeWarning: Columns (3,4,5,6,7,16,17,22,23,27,30,31,32,35,37) have mixed types. Specify dtype option on import or set low_memory=False.\n",
      "  for chunk in chunk_iterator:\n"
     ]
    },
    {
     "name": "stdout",
     "output_type": "stream",
     "text": [
      "106\n"
     ]
    },
    {
     "name": "stderr",
     "output_type": "stream",
     "text": [
      "/tmp/ipykernel_1273528/1696761591.py:1: DtypeWarning: Columns (3,4,5,6,7,16,17,22,23,27,30,31,32,33,35,37) have mixed types. Specify dtype option on import or set low_memory=False.\n",
      "  for chunk in chunk_iterator:\n"
     ]
    },
    {
     "name": "stdout",
     "output_type": "stream",
     "text": [
      "107\n"
     ]
    },
    {
     "name": "stderr",
     "output_type": "stream",
     "text": [
      "/tmp/ipykernel_1273528/1696761591.py:1: DtypeWarning: Columns (3,4,5,6,7,16,17,22,23,27,30,31,32,33,35,37,38,39,40,43) have mixed types. Specify dtype option on import or set low_memory=False.\n",
      "  for chunk in chunk_iterator:\n"
     ]
    },
    {
     "name": "stdout",
     "output_type": "stream",
     "text": [
      "108\n",
      "109\n"
     ]
    },
    {
     "name": "stderr",
     "output_type": "stream",
     "text": [
      "/tmp/ipykernel_1273528/1696761591.py:1: DtypeWarning: Columns (3,4,5,6,7,16,17,22,23,27,30,31,32,33,35,37) have mixed types. Specify dtype option on import or set low_memory=False.\n",
      "  for chunk in chunk_iterator:\n"
     ]
    },
    {
     "name": "stdout",
     "output_type": "stream",
     "text": [
      "110\n",
      "111\n",
      "112\n",
      "113\n",
      "114\n",
      "115\n",
      "116\n"
     ]
    },
    {
     "name": "stderr",
     "output_type": "stream",
     "text": [
      "/tmp/ipykernel_1273528/1696761591.py:1: DtypeWarning: Columns (3,4,5,6,7,16,17,22,23,27,30,31,32,33,35,37,39) have mixed types. Specify dtype option on import or set low_memory=False.\n",
      "  for chunk in chunk_iterator:\n"
     ]
    },
    {
     "name": "stdout",
     "output_type": "stream",
     "text": [
      "117\n",
      "118\n",
      "119\n",
      "120\n"
     ]
    },
    {
     "name": "stderr",
     "output_type": "stream",
     "text": [
      "/tmp/ipykernel_1273528/1696761591.py:1: DtypeWarning: Columns (3,4,5,6,7,16,17,22,23,27,30,31,32,33,35,37) have mixed types. Specify dtype option on import or set low_memory=False.\n",
      "  for chunk in chunk_iterator:\n"
     ]
    },
    {
     "name": "stdout",
     "output_type": "stream",
     "text": [
      "121\n"
     ]
    },
    {
     "name": "stderr",
     "output_type": "stream",
     "text": [
      "/tmp/ipykernel_1273528/1696761591.py:1: DtypeWarning: Columns (3,4,5,6,7,16,17,22,23,27,30,31,32,33,35,37) have mixed types. Specify dtype option on import or set low_memory=False.\n",
      "  for chunk in chunk_iterator:\n"
     ]
    },
    {
     "name": "stdout",
     "output_type": "stream",
     "text": [
      "122\n",
      "123\n",
      "124\n",
      "125\n"
     ]
    },
    {
     "name": "stderr",
     "output_type": "stream",
     "text": [
      "/tmp/ipykernel_1273528/1696761591.py:1: DtypeWarning: Columns (3,4,5,6,7,16,17,22,23,27,30,31,32,33,35,37) have mixed types. Specify dtype option on import or set low_memory=False.\n",
      "  for chunk in chunk_iterator:\n"
     ]
    },
    {
     "name": "stdout",
     "output_type": "stream",
     "text": [
      "126\n"
     ]
    },
    {
     "name": "stderr",
     "output_type": "stream",
     "text": [
      "/tmp/ipykernel_1273528/1696761591.py:1: DtypeWarning: Columns (3,4,5,6,7,16,17,22,23,27,30,31,32,33,35,37,39) have mixed types. Specify dtype option on import or set low_memory=False.\n",
      "  for chunk in chunk_iterator:\n"
     ]
    },
    {
     "name": "stdout",
     "output_type": "stream",
     "text": [
      "127\n"
     ]
    },
    {
     "name": "stderr",
     "output_type": "stream",
     "text": [
      "/tmp/ipykernel_1273528/1696761591.py:1: DtypeWarning: Columns (3,4,5,6,7,16,17,22,23,27,30,31,32,33,35,37,38,39,40,43) have mixed types. Specify dtype option on import or set low_memory=False.\n",
      "  for chunk in chunk_iterator:\n"
     ]
    },
    {
     "name": "stdout",
     "output_type": "stream",
     "text": [
      "128\n"
     ]
    },
    {
     "name": "stderr",
     "output_type": "stream",
     "text": [
      "/tmp/ipykernel_1273528/1696761591.py:1: DtypeWarning: Columns (3,4,5,6,7,16,17,22,23,27,30,31,32,33,35,37,38,39,40,43) have mixed types. Specify dtype option on import or set low_memory=False.\n",
      "  for chunk in chunk_iterator:\n"
     ]
    },
    {
     "name": "stdout",
     "output_type": "stream",
     "text": [
      "129\n"
     ]
    },
    {
     "name": "stderr",
     "output_type": "stream",
     "text": [
      "/tmp/ipykernel_1273528/1696761591.py:1: DtypeWarning: Columns (3,4,5,6,7,16,17,22,23,27,30,31,32,33,35,37) have mixed types. Specify dtype option on import or set low_memory=False.\n",
      "  for chunk in chunk_iterator:\n"
     ]
    },
    {
     "name": "stdout",
     "output_type": "stream",
     "text": [
      "130\n"
     ]
    },
    {
     "name": "stderr",
     "output_type": "stream",
     "text": [
      "/tmp/ipykernel_1273528/1696761591.py:1: DtypeWarning: Columns (3,4,5,6,7,16,17,22,23,27,30,31,32,35,37,39,40) have mixed types. Specify dtype option on import or set low_memory=False.\n",
      "  for chunk in chunk_iterator:\n"
     ]
    },
    {
     "name": "stdout",
     "output_type": "stream",
     "text": [
      "131\n",
      "132\n"
     ]
    },
    {
     "name": "stderr",
     "output_type": "stream",
     "text": [
      "/tmp/ipykernel_1273528/1696761591.py:1: DtypeWarning: Columns (3,4,5,6,7,16,17,22,23,27,30,31,32,35,37,38,39,40,43) have mixed types. Specify dtype option on import or set low_memory=False.\n",
      "  for chunk in chunk_iterator:\n"
     ]
    },
    {
     "name": "stdout",
     "output_type": "stream",
     "text": [
      "133\n",
      "134\n"
     ]
    },
    {
     "name": "stderr",
     "output_type": "stream",
     "text": [
      "/tmp/ipykernel_1273528/1696761591.py:1: DtypeWarning: Columns (3,4,5,6,7,16,17,22,23,27,30,31,32,35,37) have mixed types. Specify dtype option on import or set low_memory=False.\n",
      "  for chunk in chunk_iterator:\n"
     ]
    },
    {
     "name": "stdout",
     "output_type": "stream",
     "text": [
      "135\n"
     ]
    },
    {
     "name": "stderr",
     "output_type": "stream",
     "text": [
      "/tmp/ipykernel_1273528/1696761591.py:1: DtypeWarning: Columns (3,4,5,6,7,16,17,22,23,27,30,31,32,33,35,37) have mixed types. Specify dtype option on import or set low_memory=False.\n",
      "  for chunk in chunk_iterator:\n"
     ]
    },
    {
     "name": "stdout",
     "output_type": "stream",
     "text": [
      "136\n"
     ]
    },
    {
     "name": "stderr",
     "output_type": "stream",
     "text": [
      "/tmp/ipykernel_1273528/1696761591.py:1: DtypeWarning: Columns (3,4,5,6,7,16,17,22,23,27,30,31,32,33,35,37) have mixed types. Specify dtype option on import or set low_memory=False.\n",
      "  for chunk in chunk_iterator:\n"
     ]
    },
    {
     "name": "stdout",
     "output_type": "stream",
     "text": [
      "137\n"
     ]
    },
    {
     "name": "stderr",
     "output_type": "stream",
     "text": [
      "/tmp/ipykernel_1273528/1696761591.py:1: DtypeWarning: Columns (3,4,5,6,7,16,17,22,23,27,30,31,32,33,35,37,39) have mixed types. Specify dtype option on import or set low_memory=False.\n",
      "  for chunk in chunk_iterator:\n"
     ]
    },
    {
     "name": "stdout",
     "output_type": "stream",
     "text": [
      "138\n",
      "139\n"
     ]
    },
    {
     "name": "stderr",
     "output_type": "stream",
     "text": [
      "/tmp/ipykernel_1273528/1696761591.py:1: DtypeWarning: Columns (3,4,5,6,7,16,17,22,23,27,30,31,32,37) have mixed types. Specify dtype option on import or set low_memory=False.\n",
      "  for chunk in chunk_iterator:\n"
     ]
    },
    {
     "name": "stdout",
     "output_type": "stream",
     "text": [
      "140\n",
      "141\n"
     ]
    },
    {
     "name": "stderr",
     "output_type": "stream",
     "text": [
      "/tmp/ipykernel_1273528/1696761591.py:1: DtypeWarning: Columns (3,4,5,6,7,16,17,22,23,27,30,31,32,33,35,37) have mixed types. Specify dtype option on import or set low_memory=False.\n",
      "  for chunk in chunk_iterator:\n"
     ]
    },
    {
     "name": "stdout",
     "output_type": "stream",
     "text": [
      "142\n",
      "143\n"
     ]
    },
    {
     "name": "stderr",
     "output_type": "stream",
     "text": [
      "/tmp/ipykernel_1273528/1696761591.py:1: DtypeWarning: Columns (3,4,5,6,7,16,17,22,23,27,30,31,32,33,37) have mixed types. Specify dtype option on import or set low_memory=False.\n",
      "  for chunk in chunk_iterator:\n"
     ]
    },
    {
     "name": "stdout",
     "output_type": "stream",
     "text": [
      "144\n",
      "145\n"
     ]
    },
    {
     "name": "stderr",
     "output_type": "stream",
     "text": [
      "/tmp/ipykernel_1273528/1696761591.py:1: DtypeWarning: Columns (3,4,5,6,7,16,17,22,23,27,30,31,32,35,37) have mixed types. Specify dtype option on import or set low_memory=False.\n",
      "  for chunk in chunk_iterator:\n"
     ]
    },
    {
     "name": "stdout",
     "output_type": "stream",
     "text": [
      "146\n",
      "147\n"
     ]
    },
    {
     "name": "stderr",
     "output_type": "stream",
     "text": [
      "/tmp/ipykernel_1273528/1696761591.py:1: DtypeWarning: Columns (3,4,5,6,7,16,17,22,23,27,30,31,32,33,35,37,39,40) have mixed types. Specify dtype option on import or set low_memory=False.\n",
      "  for chunk in chunk_iterator:\n"
     ]
    },
    {
     "name": "stdout",
     "output_type": "stream",
     "text": [
      "148\n",
      "149\n",
      "150\n",
      "151\n"
     ]
    }
   ],
   "source": [
    "for chunk in chunk_iterator:\n",
    "    chunk_num += 1\n",
    "    print(chunk_num)\n",
    "    result_df = pd.concat([result_df, chunk], ignore_index=True)"
   ]
  },
  {
   "cell_type": "code",
   "execution_count": null,
   "metadata": {},
   "outputs": [
    {
     "data": {
      "text/plain": [
       "(15062760, 47)"
      ]
     },
     "execution_count": 30,
     "metadata": {},
     "output_type": "execute_result"
    }
   ],
   "source": [
    "result_df.shape"
   ]
  },
  {
   "cell_type": "code",
   "execution_count": null,
   "metadata": {},
   "outputs": [],
   "source": [
    "sraReference = result_df"
   ]
  },
  {
   "cell_type": "code",
   "execution_count": null,
   "metadata": {},
   "outputs": [
    {
     "data": {
      "text/html": [
       "<div>\n",
       "<style scoped>\n",
       "    .dataframe tbody tr th:only-of-type {\n",
       "        vertical-align: middle;\n",
       "    }\n",
       "\n",
       "    .dataframe tbody tr th {\n",
       "        vertical-align: top;\n",
       "    }\n",
       "\n",
       "    .dataframe thead th {\n",
       "        text-align: right;\n",
       "    }\n",
       "</style>\n",
       "<table border=\"1\" class=\"dataframe\">\n",
       "  <thead>\n",
       "    <tr style=\"text-align: right;\">\n",
       "      <th></th>\n",
       "      <th>journal_name</th>\n",
       "      <th>pmc_id</th>\n",
       "      <th>accession</th>\n",
       "    </tr>\n",
       "  </thead>\n",
       "  <tbody>\n",
       "    <tr>\n",
       "      <th>0</th>\n",
       "      <td>Fundam Res</td>\n",
       "      <td>PMC11200159</td>\n",
       "      <td>GSE264332</td>\n",
       "    </tr>\n",
       "    <tr>\n",
       "      <th>1</th>\n",
       "      <td>Fundam Res</td>\n",
       "      <td>PMC11197552</td>\n",
       "      <td>GSE150672</td>\n",
       "    </tr>\n",
       "    <tr>\n",
       "      <th>2</th>\n",
       "      <td>Fundam Res</td>\n",
       "      <td>PMC11197552</td>\n",
       "      <td>GSE13355</td>\n",
       "    </tr>\n",
       "    <tr>\n",
       "      <th>3</th>\n",
       "      <td>Fundam Res</td>\n",
       "      <td>PMC11197552</td>\n",
       "      <td>GPL570</td>\n",
       "    </tr>\n",
       "    <tr>\n",
       "      <th>4</th>\n",
       "      <td>Oncol Lett</td>\n",
       "      <td>PMC11197552</td>\n",
       "      <td>GSE14905</td>\n",
       "    </tr>\n",
       "    <tr>\n",
       "      <th>...</th>\n",
       "      <td>...</td>\n",
       "      <td>...</td>\n",
       "      <td>...</td>\n",
       "    </tr>\n",
       "    <tr>\n",
       "      <th>1537936</th>\n",
       "      <td>Cureus</td>\n",
       "      <td>PMC11260452</td>\n",
       "      <td>ERR195224</td>\n",
       "    </tr>\n",
       "    <tr>\n",
       "      <th>1537937</th>\n",
       "      <td>ESMO Open</td>\n",
       "      <td>PMC11260452</td>\n",
       "      <td>GSM495500</td>\n",
       "    </tr>\n",
       "    <tr>\n",
       "      <th>1537938</th>\n",
       "      <td>Cureus</td>\n",
       "      <td>PMC11260452</td>\n",
       "      <td>GSM495500</td>\n",
       "    </tr>\n",
       "    <tr>\n",
       "      <th>1537939</th>\n",
       "      <td>Cureus</td>\n",
       "      <td>PMC11260452</td>\n",
       "      <td>GSM495500</td>\n",
       "    </tr>\n",
       "    <tr>\n",
       "      <th>1537940</th>\n",
       "      <td>Nucleic Acids Res</td>\n",
       "      <td>PMC11260452</td>\n",
       "      <td>GSM495500</td>\n",
       "    </tr>\n",
       "  </tbody>\n",
       "</table>\n",
       "<p>1537941 rows × 3 columns</p>\n",
       "</div>"
      ],
      "text/plain": [
       "              journal_name       pmc_id  accession\n",
       "0               Fundam Res  PMC11200159  GSE264332\n",
       "1               Fundam Res  PMC11197552  GSE150672\n",
       "2               Fundam Res  PMC11197552   GSE13355\n",
       "3               Fundam Res  PMC11197552     GPL570\n",
       "4               Oncol Lett  PMC11197552   GSE14905\n",
       "...                    ...          ...        ...\n",
       "1537936             Cureus  PMC11260452  ERR195224\n",
       "1537937          ESMO Open  PMC11260452  GSM495500\n",
       "1537938             Cureus  PMC11260452  GSM495500\n",
       "1537939             Cureus  PMC11260452  GSM495500\n",
       "1537940  Nucleic Acids Res  PMC11260452  GSM495500\n",
       "\n",
       "[1537941 rows x 3 columns]"
      ]
     },
     "execution_count": 32,
     "metadata": {},
     "output_type": "execute_result"
    }
   ],
   "source": [
    "# import data scraped from PubMed\n",
    "\n",
    "pmcData = pd.read_csv('/home/nicolaedrabcinski/research/lab/new_reuse/data/pre_filter_matrix.csv')\n",
    "pmcData"
   ]
  },
  {
   "cell_type": "code",
   "execution_count": null,
   "metadata": {},
   "outputs": [],
   "source": [
    "pmcData.columns = ['journal', 'pmc_ID', 'accession']"
   ]
  },
  {
   "cell_type": "code",
   "execution_count": null,
   "metadata": {},
   "outputs": [
    {
     "data": {
      "text/html": [
       "<div>\n",
       "<style scoped>\n",
       "    .dataframe tbody tr th:only-of-type {\n",
       "        vertical-align: middle;\n",
       "    }\n",
       "\n",
       "    .dataframe tbody tr th {\n",
       "        vertical-align: top;\n",
       "    }\n",
       "\n",
       "    .dataframe thead th {\n",
       "        text-align: right;\n",
       "    }\n",
       "</style>\n",
       "<table border=\"1\" class=\"dataframe\">\n",
       "  <thead>\n",
       "    <tr style=\"text-align: right;\">\n",
       "      <th></th>\n",
       "      <th>journal</th>\n",
       "      <th>pmc_ID</th>\n",
       "      <th>accession</th>\n",
       "      <th>geoSeries</th>\n",
       "    </tr>\n",
       "  </thead>\n",
       "  <tbody>\n",
       "    <tr>\n",
       "      <th>0</th>\n",
       "      <td>Fundam Res</td>\n",
       "      <td>PMC11200159</td>\n",
       "      <td>GSE264332</td>\n",
       "      <td>GSE264332</td>\n",
       "    </tr>\n",
       "    <tr>\n",
       "      <th>1</th>\n",
       "      <td>Fundam Res</td>\n",
       "      <td>PMC11197552</td>\n",
       "      <td>GSE150672</td>\n",
       "      <td>GSE150672</td>\n",
       "    </tr>\n",
       "    <tr>\n",
       "      <th>2</th>\n",
       "      <td>Fundam Res</td>\n",
       "      <td>PMC11197552</td>\n",
       "      <td>GSE13355</td>\n",
       "      <td>GSE13355</td>\n",
       "    </tr>\n",
       "    <tr>\n",
       "      <th>3</th>\n",
       "      <td>Fundam Res</td>\n",
       "      <td>PMC11197552</td>\n",
       "      <td>GPL570</td>\n",
       "      <td>GSE104749</td>\n",
       "    </tr>\n",
       "    <tr>\n",
       "      <th>4</th>\n",
       "      <td>Oncol Lett</td>\n",
       "      <td>PMC11197552</td>\n",
       "      <td>GSE14905</td>\n",
       "      <td>GSE14905</td>\n",
       "    </tr>\n",
       "    <tr>\n",
       "      <th>...</th>\n",
       "      <td>...</td>\n",
       "      <td>...</td>\n",
       "      <td>...</td>\n",
       "      <td>...</td>\n",
       "    </tr>\n",
       "    <tr>\n",
       "      <th>1537936</th>\n",
       "      <td>Cureus</td>\n",
       "      <td>PMC11260452</td>\n",
       "      <td>ERR195224</td>\n",
       "      <td>NaN</td>\n",
       "    </tr>\n",
       "    <tr>\n",
       "      <th>1537937</th>\n",
       "      <td>ESMO Open</td>\n",
       "      <td>PMC11260452</td>\n",
       "      <td>GSM495500</td>\n",
       "      <td>GSE19836</td>\n",
       "    </tr>\n",
       "    <tr>\n",
       "      <th>1537938</th>\n",
       "      <td>Cureus</td>\n",
       "      <td>PMC11260452</td>\n",
       "      <td>GSM495500</td>\n",
       "      <td>GSE19836</td>\n",
       "    </tr>\n",
       "    <tr>\n",
       "      <th>1537939</th>\n",
       "      <td>Cureus</td>\n",
       "      <td>PMC11260452</td>\n",
       "      <td>GSM495500</td>\n",
       "      <td>GSE19836</td>\n",
       "    </tr>\n",
       "    <tr>\n",
       "      <th>1537940</th>\n",
       "      <td>Nucleic Acids Res</td>\n",
       "      <td>PMC11260452</td>\n",
       "      <td>GSM495500</td>\n",
       "      <td>GSE19836</td>\n",
       "    </tr>\n",
       "  </tbody>\n",
       "</table>\n",
       "<p>1537941 rows × 4 columns</p>\n",
       "</div>"
      ],
      "text/plain": [
       "                   journal       pmc_ID  accession  geoSeries\n",
       "0               Fundam Res  PMC11200159  GSE264332  GSE264332\n",
       "1               Fundam Res  PMC11197552  GSE150672  GSE150672\n",
       "2               Fundam Res  PMC11197552   GSE13355   GSE13355\n",
       "3               Fundam Res  PMC11197552     GPL570  GSE104749\n",
       "4               Oncol Lett  PMC11197552   GSE14905   GSE14905\n",
       "...                    ...          ...        ...        ...\n",
       "1537936             Cureus  PMC11260452  ERR195224        NaN\n",
       "1537937          ESMO Open  PMC11260452  GSM495500   GSE19836\n",
       "1537938             Cureus  PMC11260452  GSM495500   GSE19836\n",
       "1537939             Cureus  PMC11260452  GSM495500   GSE19836\n",
       "1537940  Nucleic Acids Res  PMC11260452  GSM495500   GSE19836\n",
       "\n",
       "[1537941 rows x 4 columns]"
      ]
     },
     "execution_count": 34,
     "metadata": {},
     "output_type": "execute_result"
    }
   ],
   "source": [
    "# Merge GEO accessions with reference data, convert to Series\n",
    "\n",
    "# match series first\n",
    "se = pd.merge(pmcData, geoReference['Series'].drop_duplicates(), how = 'left',\n",
    "            left_on = 'accession', right_on = 'Series')\n",
    "pmcData = se.rename(columns = {'Series': 'Series_result'})\n",
    "\n",
    "# match each other style of GEO ID\n",
    "for col in ['Accession', 'Platform', 'Datasets']:\n",
    "    pmcData = pd.merge(pmcData, geoReference[['Series', col]].drop_duplicates(subset = col), how = 'left', \n",
    "            left_on = 'accession', right_on = col)\n",
    "    label = col + '_result'\n",
    "    pmcData = pmcData.rename(columns = {'Series': label})\n",
    "\n",
    "# combine all GEO series match columns into one aggregate GEO series column, clean up\n",
    "pmcData['geoSeries'] = pmcData['Series_result'].fillna(pmcData['Accession_result']).fillna(pmcData['Platform_result']).fillna(pmcData['Datasets_result'])\n",
    "pmcData = pmcData.drop(labels = ['Accession', 'Platform', 'Datasets',\n",
    "                           'Series_result', 'Accession_result',\n",
    "                           'Platform_result', 'Datasets_result'], axis = 1)\n",
    "pmcData_geoMerged = pmcData\n",
    "pmcData_geoMerged"
   ]
  },
  {
   "cell_type": "code",
   "execution_count": null,
   "metadata": {},
   "outputs": [
    {
     "data": {
      "text/html": [
       "<div>\n",
       "<style scoped>\n",
       "    .dataframe tbody tr th:only-of-type {\n",
       "        vertical-align: middle;\n",
       "    }\n",
       "\n",
       "    .dataframe tbody tr th {\n",
       "        vertical-align: top;\n",
       "    }\n",
       "\n",
       "    .dataframe thead th {\n",
       "        text-align: right;\n",
       "    }\n",
       "</style>\n",
       "<table border=\"1\" class=\"dataframe\">\n",
       "  <thead>\n",
       "    <tr style=\"text-align: right;\">\n",
       "      <th></th>\n",
       "      <th>journal</th>\n",
       "      <th>pmc_ID</th>\n",
       "      <th>accession</th>\n",
       "      <th>geoSeries</th>\n",
       "      <th>sraStudy</th>\n",
       "    </tr>\n",
       "  </thead>\n",
       "  <tbody>\n",
       "    <tr>\n",
       "      <th>75223</th>\n",
       "      <td>Healthcare (Basel)</td>\n",
       "      <td>PMC10943877</td>\n",
       "      <td>GSE18520</td>\n",
       "      <td>GSE18520</td>\n",
       "      <td>NaN</td>\n",
       "    </tr>\n",
       "    <tr>\n",
       "      <th>66563</th>\n",
       "      <td>Int Dent J (Phila)</td>\n",
       "      <td>PMC10721923</td>\n",
       "      <td>GSE231887</td>\n",
       "      <td>GSE231887</td>\n",
       "      <td>NaN</td>\n",
       "    </tr>\n",
       "    <tr>\n",
       "      <th>1341933</th>\n",
       "      <td>Malar J</td>\n",
       "      <td>PMC9400315</td>\n",
       "      <td>GSE9944</td>\n",
       "      <td>GSE9944</td>\n",
       "      <td>NaN</td>\n",
       "    </tr>\n",
       "    <tr>\n",
       "      <th>1346175</th>\n",
       "      <td>Membranes (Basel)</td>\n",
       "      <td>PMC9513410</td>\n",
       "      <td>GSE143411</td>\n",
       "      <td>GSE143411</td>\n",
       "      <td>NaN</td>\n",
       "    </tr>\n",
       "    <tr>\n",
       "      <th>169052</th>\n",
       "      <td>BMC Infect Dis</td>\n",
       "      <td>PMC10462780</td>\n",
       "      <td>PRJNA950113</td>\n",
       "      <td>NaN</td>\n",
       "      <td>SRP430040</td>\n",
       "    </tr>\n",
       "    <tr>\n",
       "      <th>1298568</th>\n",
       "      <td>Life (Basel)</td>\n",
       "      <td>PMC9238166</td>\n",
       "      <td>GSE124766</td>\n",
       "      <td>GSE124766</td>\n",
       "      <td>NaN</td>\n",
       "    </tr>\n",
       "    <tr>\n",
       "      <th>379554</th>\n",
       "      <td>Front Aging Neurosci</td>\n",
       "      <td>PMC4404103</td>\n",
       "      <td>GSE65787</td>\n",
       "      <td>GSE65787</td>\n",
       "      <td>NaN</td>\n",
       "    </tr>\n",
       "    <tr>\n",
       "      <th>1046648</th>\n",
       "      <td>Front Vet Sci</td>\n",
       "      <td>PMC8316339</td>\n",
       "      <td>ERS801335</td>\n",
       "      <td>NaN</td>\n",
       "      <td>ERP001094</td>\n",
       "    </tr>\n",
       "    <tr>\n",
       "      <th>518719</th>\n",
       "      <td>Sci Rep</td>\n",
       "      <td>PMC6863864</td>\n",
       "      <td>SRR1804235</td>\n",
       "      <td>NaN</td>\n",
       "      <td>SRP055037</td>\n",
       "    </tr>\n",
       "    <tr>\n",
       "      <th>424820</th>\n",
       "      <td>ScientificWorldJournal</td>\n",
       "      <td>PMC4499119</td>\n",
       "      <td>SRP049215</td>\n",
       "      <td>NaN</td>\n",
       "      <td>SRP049215</td>\n",
       "    </tr>\n",
       "    <tr>\n",
       "      <th>996244</th>\n",
       "      <td>PLoS One</td>\n",
       "      <td>PMC8946911</td>\n",
       "      <td>GPL570</td>\n",
       "      <td>GSE104749</td>\n",
       "      <td>NaN</td>\n",
       "    </tr>\n",
       "    <tr>\n",
       "      <th>1496791</th>\n",
       "      <td>Quant Imaging Med Surg</td>\n",
       "      <td>PMC10404953</td>\n",
       "      <td>GPL11154</td>\n",
       "      <td>GSE104745</td>\n",
       "      <td>NaN</td>\n",
       "    </tr>\n",
       "    <tr>\n",
       "      <th>406685</th>\n",
       "      <td>Front Neurosci</td>\n",
       "      <td>PMC4622223</td>\n",
       "      <td>ERS043901</td>\n",
       "      <td>NaN</td>\n",
       "      <td>ERP000809</td>\n",
       "    </tr>\n",
       "    <tr>\n",
       "      <th>1531473</th>\n",
       "      <td>South Asian J Cancer</td>\n",
       "      <td>PMC5697450</td>\n",
       "      <td>GSE22541</td>\n",
       "      <td>GSE22541</td>\n",
       "      <td>NaN</td>\n",
       "    </tr>\n",
       "    <tr>\n",
       "      <th>694662</th>\n",
       "      <td>Nurs Open</td>\n",
       "      <td>PMC9724674</td>\n",
       "      <td>GSE207877</td>\n",
       "      <td>GSE207877</td>\n",
       "      <td>NaN</td>\n",
       "    </tr>\n",
       "    <tr>\n",
       "      <th>283001</th>\n",
       "      <td>Int J Environ Res Public Health</td>\n",
       "      <td>PMC5063418</td>\n",
       "      <td>SRP090323</td>\n",
       "      <td>NaN</td>\n",
       "      <td>SRP090323</td>\n",
       "    </tr>\n",
       "    <tr>\n",
       "      <th>909139</th>\n",
       "      <td>eLife</td>\n",
       "      <td>PMC7520306</td>\n",
       "      <td>GSE15622</td>\n",
       "      <td>GSE15622</td>\n",
       "      <td>NaN</td>\n",
       "    </tr>\n",
       "    <tr>\n",
       "      <th>1139125</th>\n",
       "      <td>J Clin Transl Sci</td>\n",
       "      <td>PMC8669064</td>\n",
       "      <td>GSE125068</td>\n",
       "      <td>GSE125068</td>\n",
       "      <td>NaN</td>\n",
       "    </tr>\n",
       "    <tr>\n",
       "      <th>1335533</th>\n",
       "      <td>Eur J Dent</td>\n",
       "      <td>PMC9247176</td>\n",
       "      <td>GSE37642</td>\n",
       "      <td>GSE37642</td>\n",
       "      <td>NaN</td>\n",
       "    </tr>\n",
       "    <tr>\n",
       "      <th>1303956</th>\n",
       "      <td>Front Pain Res (Lausanne)</td>\n",
       "      <td>PMC9381770</td>\n",
       "      <td>GSE36133</td>\n",
       "      <td>GSE36133</td>\n",
       "      <td>NaN</td>\n",
       "    </tr>\n",
       "    <tr>\n",
       "      <th>1363612</th>\n",
       "      <td>PLoS One</td>\n",
       "      <td>PMC9968721</td>\n",
       "      <td>GSE102349</td>\n",
       "      <td>GSE102349</td>\n",
       "      <td>NaN</td>\n",
       "    </tr>\n",
       "    <tr>\n",
       "      <th>1159250</th>\n",
       "      <td>Front Psychiatry</td>\n",
       "      <td>PMC8421149</td>\n",
       "      <td>GSM345589</td>\n",
       "      <td>GSE13745</td>\n",
       "      <td>NaN</td>\n",
       "    </tr>\n",
       "    <tr>\n",
       "      <th>735174</th>\n",
       "      <td>Eur J Psychotraumatol</td>\n",
       "      <td>PMC8602030</td>\n",
       "      <td>GSE174077</td>\n",
       "      <td>GSE174077</td>\n",
       "      <td>NaN</td>\n",
       "    </tr>\n",
       "    <tr>\n",
       "      <th>603693</th>\n",
       "      <td>BMC Psychiatry</td>\n",
       "      <td>PMC11117452</td>\n",
       "      <td>GPL570</td>\n",
       "      <td>GSE104749</td>\n",
       "      <td>NaN</td>\n",
       "    </tr>\n",
       "    <tr>\n",
       "      <th>1163037</th>\n",
       "      <td>RSC Med Chem</td>\n",
       "      <td>PMC8633487</td>\n",
       "      <td>SRX048833</td>\n",
       "      <td>NaN</td>\n",
       "      <td>SRP006039</td>\n",
       "    </tr>\n",
       "  </tbody>\n",
       "</table>\n",
       "</div>"
      ],
      "text/plain": [
       "                                 journal       pmc_ID    accession  geoSeries  \\\n",
       "75223                 Healthcare (Basel)  PMC10943877     GSE18520   GSE18520   \n",
       "66563                 Int Dent J (Phila)  PMC10721923    GSE231887  GSE231887   \n",
       "1341933                          Malar J   PMC9400315      GSE9944    GSE9944   \n",
       "1346175                Membranes (Basel)   PMC9513410    GSE143411  GSE143411   \n",
       "169052                    BMC Infect Dis  PMC10462780  PRJNA950113        NaN   \n",
       "1298568                     Life (Basel)   PMC9238166    GSE124766  GSE124766   \n",
       "379554              Front Aging Neurosci   PMC4404103     GSE65787   GSE65787   \n",
       "1046648                    Front Vet Sci   PMC8316339    ERS801335        NaN   \n",
       "518719                           Sci Rep   PMC6863864   SRR1804235        NaN   \n",
       "424820            ScientificWorldJournal   PMC4499119    SRP049215        NaN   \n",
       "996244                          PLoS One   PMC8946911       GPL570  GSE104749   \n",
       "1496791           Quant Imaging Med Surg  PMC10404953     GPL11154  GSE104745   \n",
       "406685                    Front Neurosci   PMC4622223    ERS043901        NaN   \n",
       "1531473             South Asian J Cancer   PMC5697450     GSE22541   GSE22541   \n",
       "694662                         Nurs Open   PMC9724674    GSE207877  GSE207877   \n",
       "283001   Int J Environ Res Public Health   PMC5063418    SRP090323        NaN   \n",
       "909139                             eLife   PMC7520306     GSE15622   GSE15622   \n",
       "1139125                J Clin Transl Sci   PMC8669064    GSE125068  GSE125068   \n",
       "1335533                       Eur J Dent   PMC9247176     GSE37642   GSE37642   \n",
       "1303956        Front Pain Res (Lausanne)   PMC9381770     GSE36133   GSE36133   \n",
       "1363612                         PLoS One   PMC9968721    GSE102349  GSE102349   \n",
       "1159250                 Front Psychiatry   PMC8421149    GSM345589   GSE13745   \n",
       "735174             Eur J Psychotraumatol   PMC8602030    GSE174077  GSE174077   \n",
       "603693                    BMC Psychiatry  PMC11117452       GPL570  GSE104749   \n",
       "1163037                     RSC Med Chem   PMC8633487    SRX048833        NaN   \n",
       "\n",
       "          sraStudy  \n",
       "75223          NaN  \n",
       "66563          NaN  \n",
       "1341933        NaN  \n",
       "1346175        NaN  \n",
       "169052   SRP430040  \n",
       "1298568        NaN  \n",
       "379554         NaN  \n",
       "1046648  ERP001094  \n",
       "518719   SRP055037  \n",
       "424820   SRP049215  \n",
       "996244         NaN  \n",
       "1496791        NaN  \n",
       "406685   ERP000809  \n",
       "1531473        NaN  \n",
       "694662         NaN  \n",
       "283001   SRP090323  \n",
       "909139         NaN  \n",
       "1139125        NaN  \n",
       "1335533        NaN  \n",
       "1303956        NaN  \n",
       "1363612        NaN  \n",
       "1159250        NaN  \n",
       "735174         NaN  \n",
       "603693         NaN  \n",
       "1163037  SRP006039  "
      ]
     },
     "execution_count": 35,
     "metadata": {},
     "output_type": "execute_result"
    }
   ],
   "source": [
    "# merge SRA accessions with reference data, convert to Study\n",
    "\n",
    "# match SRA Study IDs first\n",
    "st = pd.merge(pmcData_geoMerged, sraReference['SRAStudy'].drop_duplicates(), how = 'left',\n",
    "            left_on = 'accession', right_on = 'SRAStudy')\n",
    "pmcData = st.rename(columns = {'SRAStudy': 'Study_result'})\n",
    "\n",
    "# match every other style of SRA ID\n",
    "for col in ['Run', 'Experiment', 'BioProject', 'Submission', 'Sample']:\n",
    "    pmcData = pd.merge(pmcData, sraReference[['SRAStudy', col]].drop_duplicates(subset = [col]), how = 'left',\n",
    "                      left_on = 'accession', right_on = col)\n",
    "    label = col + '_result'\n",
    "    pmcData = pmcData.rename(columns = {'SRAStudy': label})\n",
    "\n",
    "# combine all SRA Study matches into one aggregate column, clean up\n",
    "pmcData['sraStudy'] = pmcData['Study_result'].fillna(pmcData['Run_result']).fillna(pmcData['Experiment_result']).fillna(pmcData['BioProject_result']).fillna(pmcData['Submission_result']).fillna(pmcData['Sample_result'])\n",
    "pmcData = pmcData.drop(labels = ['Run', 'Experiment', 'BioProject', 'Submission', 'Sample',\n",
    "                                'Study_result', 'Run_result', 'Experiment_result', 'BioProject_result',\n",
    "                                'Submission_result', 'Sample_result'], axis = 1)\n",
    "\n",
    "pmcData_sraMerged = pmcData\n",
    "pmcData_sraMerged.sample(25)"
   ]
  },
  {
   "cell_type": "code",
   "execution_count": null,
   "metadata": {},
   "outputs": [
    {
     "data": {
      "text/html": [
       "<div>\n",
       "<style scoped>\n",
       "    .dataframe tbody tr th:only-of-type {\n",
       "        vertical-align: middle;\n",
       "    }\n",
       "\n",
       "    .dataframe tbody tr th {\n",
       "        vertical-align: top;\n",
       "    }\n",
       "\n",
       "    .dataframe thead th {\n",
       "        text-align: right;\n",
       "    }\n",
       "</style>\n",
       "<table border=\"1\" class=\"dataframe\">\n",
       "  <thead>\n",
       "    <tr style=\"text-align: right;\">\n",
       "      <th></th>\n",
       "      <th>journal</th>\n",
       "      <th>pmc_ID</th>\n",
       "      <th>accession</th>\n",
       "      <th>converted_accession</th>\n",
       "    </tr>\n",
       "  </thead>\n",
       "  <tbody>\n",
       "    <tr>\n",
       "      <th>0</th>\n",
       "      <td>Fundam Res</td>\n",
       "      <td>PMC11200159</td>\n",
       "      <td>GSE264332</td>\n",
       "      <td>GSE264332</td>\n",
       "    </tr>\n",
       "    <tr>\n",
       "      <th>1</th>\n",
       "      <td>Fundam Res</td>\n",
       "      <td>PMC11197552</td>\n",
       "      <td>GSE150672</td>\n",
       "      <td>GSE150672</td>\n",
       "    </tr>\n",
       "    <tr>\n",
       "      <th>2</th>\n",
       "      <td>Fundam Res</td>\n",
       "      <td>PMC11197552</td>\n",
       "      <td>GSE13355</td>\n",
       "      <td>GSE13355</td>\n",
       "    </tr>\n",
       "    <tr>\n",
       "      <th>3</th>\n",
       "      <td>Fundam Res</td>\n",
       "      <td>PMC11197552</td>\n",
       "      <td>GPL570</td>\n",
       "      <td>GSE104749</td>\n",
       "    </tr>\n",
       "    <tr>\n",
       "      <th>4</th>\n",
       "      <td>Oncol Lett</td>\n",
       "      <td>PMC11197552</td>\n",
       "      <td>GSE14905</td>\n",
       "      <td>GSE14905</td>\n",
       "    </tr>\n",
       "    <tr>\n",
       "      <th>...</th>\n",
       "      <td>...</td>\n",
       "      <td>...</td>\n",
       "      <td>...</td>\n",
       "      <td>...</td>\n",
       "    </tr>\n",
       "    <tr>\n",
       "      <th>1537936</th>\n",
       "      <td>Cureus</td>\n",
       "      <td>PMC11260452</td>\n",
       "      <td>ERR195224</td>\n",
       "      <td>ERP001824</td>\n",
       "    </tr>\n",
       "    <tr>\n",
       "      <th>1537937</th>\n",
       "      <td>ESMO Open</td>\n",
       "      <td>PMC11260452</td>\n",
       "      <td>GSM495500</td>\n",
       "      <td>GSE19836</td>\n",
       "    </tr>\n",
       "    <tr>\n",
       "      <th>1537938</th>\n",
       "      <td>Cureus</td>\n",
       "      <td>PMC11260452</td>\n",
       "      <td>GSM495500</td>\n",
       "      <td>GSE19836</td>\n",
       "    </tr>\n",
       "    <tr>\n",
       "      <th>1537939</th>\n",
       "      <td>Cureus</td>\n",
       "      <td>PMC11260452</td>\n",
       "      <td>GSM495500</td>\n",
       "      <td>GSE19836</td>\n",
       "    </tr>\n",
       "    <tr>\n",
       "      <th>1537940</th>\n",
       "      <td>Nucleic Acids Res</td>\n",
       "      <td>PMC11260452</td>\n",
       "      <td>GSM495500</td>\n",
       "      <td>GSE19836</td>\n",
       "    </tr>\n",
       "  </tbody>\n",
       "</table>\n",
       "<p>1537941 rows × 4 columns</p>\n",
       "</div>"
      ],
      "text/plain": [
       "                   journal       pmc_ID  accession converted_accession\n",
       "0               Fundam Res  PMC11200159  GSE264332           GSE264332\n",
       "1               Fundam Res  PMC11197552  GSE150672           GSE150672\n",
       "2               Fundam Res  PMC11197552   GSE13355            GSE13355\n",
       "3               Fundam Res  PMC11197552     GPL570           GSE104749\n",
       "4               Oncol Lett  PMC11197552   GSE14905            GSE14905\n",
       "...                    ...          ...        ...                 ...\n",
       "1537936             Cureus  PMC11260452  ERR195224           ERP001824\n",
       "1537937          ESMO Open  PMC11260452  GSM495500            GSE19836\n",
       "1537938             Cureus  PMC11260452  GSM495500            GSE19836\n",
       "1537939             Cureus  PMC11260452  GSM495500            GSE19836\n",
       "1537940  Nucleic Acids Res  PMC11260452  GSM495500            GSE19836\n",
       "\n",
       "[1537941 rows x 4 columns]"
      ]
     },
     "execution_count": 36,
     "metadata": {},
     "output_type": "execute_result"
    }
   ],
   "source": [
    "# combine GEO Series hits and SRA study hits into one converted accession column\n",
    "pmcData['converted_accession'] = pmcData_sraMerged['geoSeries'].fillna(pmcData_sraMerged['sraStudy'])\n",
    "pmcData = pmcData.drop(labels = ['geoSeries', 'sraStudy'], axis = 1)\n",
    "pmcData"
   ]
  },
  {
   "cell_type": "code",
   "execution_count": null,
   "metadata": {},
   "outputs": [
    {
     "data": {
      "text/html": [
       "<div>\n",
       "<style scoped>\n",
       "    .dataframe tbody tr th:only-of-type {\n",
       "        vertical-align: middle;\n",
       "    }\n",
       "\n",
       "    .dataframe tbody tr th {\n",
       "        vertical-align: top;\n",
       "    }\n",
       "\n",
       "    .dataframe thead th {\n",
       "        text-align: right;\n",
       "    }\n",
       "</style>\n",
       "<table border=\"1\" class=\"dataframe\">\n",
       "  <thead>\n",
       "    <tr style=\"text-align: right;\">\n",
       "      <th></th>\n",
       "      <th>journal</th>\n",
       "      <th>pmc_ID</th>\n",
       "      <th>accession</th>\n",
       "      <th>converted_accession</th>\n",
       "    </tr>\n",
       "  </thead>\n",
       "  <tbody>\n",
       "    <tr>\n",
       "      <th>0</th>\n",
       "      <td>Fundam Res</td>\n",
       "      <td>PMC11200159</td>\n",
       "      <td>GSE264332</td>\n",
       "      <td>GSE264332</td>\n",
       "    </tr>\n",
       "    <tr>\n",
       "      <th>1</th>\n",
       "      <td>Fundam Res</td>\n",
       "      <td>PMC11197552</td>\n",
       "      <td>GSE150672</td>\n",
       "      <td>GSE150672</td>\n",
       "    </tr>\n",
       "    <tr>\n",
       "      <th>2</th>\n",
       "      <td>Fundam Res</td>\n",
       "      <td>PMC11197552</td>\n",
       "      <td>GSE13355</td>\n",
       "      <td>GSE13355</td>\n",
       "    </tr>\n",
       "    <tr>\n",
       "      <th>3</th>\n",
       "      <td>Fundam Res</td>\n",
       "      <td>PMC11197552</td>\n",
       "      <td>GPL570</td>\n",
       "      <td>GSE104749</td>\n",
       "    </tr>\n",
       "    <tr>\n",
       "      <th>4</th>\n",
       "      <td>Oncol Lett</td>\n",
       "      <td>PMC11197552</td>\n",
       "      <td>GSE14905</td>\n",
       "      <td>GSE14905</td>\n",
       "    </tr>\n",
       "    <tr>\n",
       "      <th>...</th>\n",
       "      <td>...</td>\n",
       "      <td>...</td>\n",
       "      <td>...</td>\n",
       "      <td>...</td>\n",
       "    </tr>\n",
       "    <tr>\n",
       "      <th>1537936</th>\n",
       "      <td>Cureus</td>\n",
       "      <td>PMC11260452</td>\n",
       "      <td>ERR195224</td>\n",
       "      <td>ERP001824</td>\n",
       "    </tr>\n",
       "    <tr>\n",
       "      <th>1537937</th>\n",
       "      <td>ESMO Open</td>\n",
       "      <td>PMC11260452</td>\n",
       "      <td>GSM495500</td>\n",
       "      <td>GSE19836</td>\n",
       "    </tr>\n",
       "    <tr>\n",
       "      <th>1537938</th>\n",
       "      <td>Cureus</td>\n",
       "      <td>PMC11260452</td>\n",
       "      <td>GSM495500</td>\n",
       "      <td>GSE19836</td>\n",
       "    </tr>\n",
       "    <tr>\n",
       "      <th>1537939</th>\n",
       "      <td>Cureus</td>\n",
       "      <td>PMC11260452</td>\n",
       "      <td>GSM495500</td>\n",
       "      <td>GSE19836</td>\n",
       "    </tr>\n",
       "    <tr>\n",
       "      <th>1537940</th>\n",
       "      <td>Nucleic Acids Res</td>\n",
       "      <td>PMC11260452</td>\n",
       "      <td>GSM495500</td>\n",
       "      <td>GSE19836</td>\n",
       "    </tr>\n",
       "  </tbody>\n",
       "</table>\n",
       "<p>1445998 rows × 4 columns</p>\n",
       "</div>"
      ],
      "text/plain": [
       "                   journal       pmc_ID  accession converted_accession\n",
       "0               Fundam Res  PMC11200159  GSE264332           GSE264332\n",
       "1               Fundam Res  PMC11197552  GSE150672           GSE150672\n",
       "2               Fundam Res  PMC11197552   GSE13355            GSE13355\n",
       "3               Fundam Res  PMC11197552     GPL570           GSE104749\n",
       "4               Oncol Lett  PMC11197552   GSE14905            GSE14905\n",
       "...                    ...          ...        ...                 ...\n",
       "1537936             Cureus  PMC11260452  ERR195224           ERP001824\n",
       "1537937          ESMO Open  PMC11260452  GSM495500            GSE19836\n",
       "1537938             Cureus  PMC11260452  GSM495500            GSE19836\n",
       "1537939             Cureus  PMC11260452  GSM495500            GSE19836\n",
       "1537940  Nucleic Acids Res  PMC11260452  GSM495500            GSE19836\n",
       "\n",
       "[1445998 rows x 4 columns]"
      ]
     },
     "execution_count": 37,
     "metadata": {},
     "output_type": "execute_result"
    }
   ],
   "source": [
    "# clean out garbage converted_accession entries, and rows that didn't map to a converted_accession\n",
    "w = []\n",
    "for a in pmcData['converted_accession']:\n",
    "    if type(a) == str:\n",
    "        if a[0:3] != 'GSE' and a[1:3] != 'RP':\n",
    "                w.append(a)\n",
    "w.append(np.NaN)\n",
    "        \n",
    "pmcData = pmcData[~pmcData.converted_accession.isin(w)]\n",
    "pmcData"
   ]
  },
  {
   "cell_type": "code",
   "execution_count": null,
   "metadata": {},
   "outputs": [
    {
     "data": {
      "text/html": [
       "<div>\n",
       "<style scoped>\n",
       "    .dataframe tbody tr th:only-of-type {\n",
       "        vertical-align: middle;\n",
       "    }\n",
       "\n",
       "    .dataframe tbody tr th {\n",
       "        vertical-align: top;\n",
       "    }\n",
       "\n",
       "    .dataframe thead th {\n",
       "        text-align: right;\n",
       "    }\n",
       "</style>\n",
       "<table border=\"1\" class=\"dataframe\">\n",
       "  <thead>\n",
       "    <tr style=\"text-align: right;\">\n",
       "      <th></th>\n",
       "      <th>SRA_accession_code</th>\n",
       "      <th>GEO_accession_code</th>\n",
       "      <th>pm_ID</th>\n",
       "      <th>pmc_ID</th>\n",
       "    </tr>\n",
       "  </thead>\n",
       "  <tbody>\n",
       "    <tr>\n",
       "      <th>0</th>\n",
       "      <td>SRP111833</td>\n",
       "      <td>GSE101341</td>\n",
       "      <td>29535194.0</td>\n",
       "      <td>PMC5850328</td>\n",
       "    </tr>\n",
       "    <tr>\n",
       "      <th>1</th>\n",
       "      <td>ERP108370</td>\n",
       "      <td>NaN</td>\n",
       "      <td>NaN</td>\n",
       "      <td>NaN</td>\n",
       "    </tr>\n",
       "    <tr>\n",
       "      <th>2</th>\n",
       "      <td>SRP062170</td>\n",
       "      <td>GSE71840</td>\n",
       "      <td>27780967.0</td>\n",
       "      <td>NaN</td>\n",
       "    </tr>\n",
       "    <tr>\n",
       "      <th>3</th>\n",
       "      <td>ERP114122</td>\n",
       "      <td>NaN</td>\n",
       "      <td>NaN</td>\n",
       "      <td>NaN</td>\n",
       "    </tr>\n",
       "    <tr>\n",
       "      <th>4</th>\n",
       "      <td>SRP162020</td>\n",
       "      <td>GSE120109</td>\n",
       "      <td>30692590.0</td>\n",
       "      <td>PMC6349857</td>\n",
       "    </tr>\n",
       "    <tr>\n",
       "      <th>...</th>\n",
       "      <td>...</td>\n",
       "      <td>...</td>\n",
       "      <td>...</td>\n",
       "      <td>...</td>\n",
       "    </tr>\n",
       "    <tr>\n",
       "      <th>26550</th>\n",
       "      <td>GSE140448</td>\n",
       "      <td>E-GEOD-140448</td>\n",
       "      <td>31776254.0</td>\n",
       "      <td>PMC6925996</td>\n",
       "    </tr>\n",
       "    <tr>\n",
       "      <th>26551</th>\n",
       "      <td>GSE137235</td>\n",
       "      <td>E-GEOD-137235</td>\n",
       "      <td>32467224.0</td>\n",
       "      <td>PMC7328513</td>\n",
       "    </tr>\n",
       "    <tr>\n",
       "      <th>26552</th>\n",
       "      <td>GSE140426</td>\n",
       "      <td>E-GEOD-140426</td>\n",
       "      <td>NaN</td>\n",
       "      <td>NaN</td>\n",
       "    </tr>\n",
       "    <tr>\n",
       "      <th>26553</th>\n",
       "      <td>GSE134244</td>\n",
       "      <td>E-GEOD-134244</td>\n",
       "      <td>NaN</td>\n",
       "      <td>NaN</td>\n",
       "    </tr>\n",
       "    <tr>\n",
       "      <th>26554</th>\n",
       "      <td>GSE134247</td>\n",
       "      <td>E-GEOD-134247</td>\n",
       "      <td>NaN</td>\n",
       "      <td>NaN</td>\n",
       "    </tr>\n",
       "  </tbody>\n",
       "</table>\n",
       "<p>26555 rows × 4 columns</p>\n",
       "</div>"
      ],
      "text/plain": [
       "      SRA_accession_code GEO_accession_code       pm_ID      pmc_ID\n",
       "0              SRP111833          GSE101341  29535194.0  PMC5850328\n",
       "1              ERP108370                NaN         NaN         NaN\n",
       "2              SRP062170           GSE71840  27780967.0         NaN\n",
       "3              ERP114122                NaN         NaN         NaN\n",
       "4              SRP162020          GSE120109  30692590.0  PMC6349857\n",
       "...                  ...                ...         ...         ...\n",
       "26550          GSE140448      E-GEOD-140448  31776254.0  PMC6925996\n",
       "26551          GSE137235      E-GEOD-137235  32467224.0  PMC7328513\n",
       "26552          GSE140426      E-GEOD-140426         NaN         NaN\n",
       "26553          GSE134244      E-GEOD-134244         NaN         NaN\n",
       "26554          GSE134247      E-GEOD-134247         NaN         NaN\n",
       "\n",
       "[26555 rows x 4 columns]"
      ]
     },
     "execution_count": 38,
     "metadata": {},
     "output_type": "execute_result"
    }
   ],
   "source": [
    "# perform QC with gold standard from Penn group (Casey + Kurt)\n",
    "gsPMC = pd.read_table(\"/home/nicolaedrabcinski/research/lab/reusability/data/processed/pubmed_mappings.tsv\")\n",
    "gsPMC.columns = [\"SRA_accession_code\", \"GEO_accession_code\", \"pm_ID\", \"pmc_ID\"]\n",
    "gsPMC"
   ]
  },
  {
   "cell_type": "code",
   "execution_count": null,
   "metadata": {},
   "outputs": [
    {
     "data": {
      "text/html": [
       "<div>\n",
       "<style scoped>\n",
       "    .dataframe tbody tr th:only-of-type {\n",
       "        vertical-align: middle;\n",
       "    }\n",
       "\n",
       "    .dataframe tbody tr th {\n",
       "        vertical-align: top;\n",
       "    }\n",
       "\n",
       "    .dataframe thead th {\n",
       "        text-align: right;\n",
       "    }\n",
       "</style>\n",
       "<table border=\"1\" class=\"dataframe\">\n",
       "  <thead>\n",
       "    <tr style=\"text-align: right;\">\n",
       "      <th></th>\n",
       "      <th>SRA_accession_code</th>\n",
       "      <th>GEO_accession_code</th>\n",
       "    </tr>\n",
       "  </thead>\n",
       "  <tbody>\n",
       "    <tr>\n",
       "      <th>0</th>\n",
       "      <td>SRP111833</td>\n",
       "      <td>GSE101341</td>\n",
       "    </tr>\n",
       "    <tr>\n",
       "      <th>2</th>\n",
       "      <td>SRP062170</td>\n",
       "      <td>GSE71840</td>\n",
       "    </tr>\n",
       "    <tr>\n",
       "      <th>4</th>\n",
       "      <td>SRP162020</td>\n",
       "      <td>GSE120109</td>\n",
       "    </tr>\n",
       "    <tr>\n",
       "      <th>5</th>\n",
       "      <td>SRP041755</td>\n",
       "      <td>GSE57401</td>\n",
       "    </tr>\n",
       "    <tr>\n",
       "      <th>6</th>\n",
       "      <td>SRP153370</td>\n",
       "      <td>GSE117074</td>\n",
       "    </tr>\n",
       "    <tr>\n",
       "      <th>...</th>\n",
       "      <td>...</td>\n",
       "      <td>...</td>\n",
       "    </tr>\n",
       "    <tr>\n",
       "      <th>26550</th>\n",
       "      <td>GSE140448</td>\n",
       "      <td>E-GEOD-140448</td>\n",
       "    </tr>\n",
       "    <tr>\n",
       "      <th>26551</th>\n",
       "      <td>GSE137235</td>\n",
       "      <td>E-GEOD-137235</td>\n",
       "    </tr>\n",
       "    <tr>\n",
       "      <th>26552</th>\n",
       "      <td>GSE140426</td>\n",
       "      <td>E-GEOD-140426</td>\n",
       "    </tr>\n",
       "    <tr>\n",
       "      <th>26553</th>\n",
       "      <td>GSE134244</td>\n",
       "      <td>E-GEOD-134244</td>\n",
       "    </tr>\n",
       "    <tr>\n",
       "      <th>26554</th>\n",
       "      <td>GSE134247</td>\n",
       "      <td>E-GEOD-134247</td>\n",
       "    </tr>\n",
       "  </tbody>\n",
       "</table>\n",
       "<p>17522 rows × 2 columns</p>\n",
       "</div>"
      ],
      "text/plain": [
       "      SRA_accession_code GEO_accession_code\n",
       "0              SRP111833          GSE101341\n",
       "2              SRP062170           GSE71840\n",
       "4              SRP162020          GSE120109\n",
       "5              SRP041755           GSE57401\n",
       "6              SRP153370          GSE117074\n",
       "...                  ...                ...\n",
       "26550          GSE140448      E-GEOD-140448\n",
       "26551          GSE137235      E-GEOD-137235\n",
       "26552          GSE140426      E-GEOD-140426\n",
       "26553          GSE134244      E-GEOD-134244\n",
       "26554          GSE134247      E-GEOD-134247\n",
       "\n",
       "[17522 rows x 2 columns]"
      ]
     },
     "execution_count": 39,
     "metadata": {},
     "output_type": "execute_result"
    }
   ],
   "source": [
    "# QC step: de-duplicate datasets present in both SRA and GEO\n",
    "gsPMC_acc = gsPMC[['SRA_accession_code', 'GEO_accession_code']].dropna()\n",
    "gsPMC_acc"
   ]
  },
  {
   "cell_type": "code",
   "execution_count": null,
   "metadata": {},
   "outputs": [
    {
     "data": {
      "text/html": [
       "<div>\n",
       "<style scoped>\n",
       "    .dataframe tbody tr th:only-of-type {\n",
       "        vertical-align: middle;\n",
       "    }\n",
       "\n",
       "    .dataframe tbody tr th {\n",
       "        vertical-align: top;\n",
       "    }\n",
       "\n",
       "    .dataframe thead th {\n",
       "        text-align: right;\n",
       "    }\n",
       "</style>\n",
       "<table border=\"1\" class=\"dataframe\">\n",
       "  <thead>\n",
       "    <tr style=\"text-align: right;\">\n",
       "      <th></th>\n",
       "      <th>journal</th>\n",
       "      <th>pmc_ID</th>\n",
       "      <th>accession</th>\n",
       "      <th>converted_accession</th>\n",
       "      <th>SRA_accession_code</th>\n",
       "      <th>GEO_accession_code</th>\n",
       "    </tr>\n",
       "  </thead>\n",
       "  <tbody>\n",
       "    <tr>\n",
       "      <th>0</th>\n",
       "      <td>Fundam Res</td>\n",
       "      <td>PMC11200159</td>\n",
       "      <td>GSE264332</td>\n",
       "      <td>GSE264332</td>\n",
       "      <td>NaN</td>\n",
       "      <td>NaN</td>\n",
       "    </tr>\n",
       "    <tr>\n",
       "      <th>1</th>\n",
       "      <td>Fundam Res</td>\n",
       "      <td>PMC11197552</td>\n",
       "      <td>GSE150672</td>\n",
       "      <td>GSE150672</td>\n",
       "      <td>NaN</td>\n",
       "      <td>NaN</td>\n",
       "    </tr>\n",
       "    <tr>\n",
       "      <th>2</th>\n",
       "      <td>Fundam Res</td>\n",
       "      <td>PMC11197552</td>\n",
       "      <td>GSE13355</td>\n",
       "      <td>GSE13355</td>\n",
       "      <td>NaN</td>\n",
       "      <td>NaN</td>\n",
       "    </tr>\n",
       "    <tr>\n",
       "      <th>3</th>\n",
       "      <td>Fundam Res</td>\n",
       "      <td>PMC11197552</td>\n",
       "      <td>GPL570</td>\n",
       "      <td>GSE104749</td>\n",
       "      <td>NaN</td>\n",
       "      <td>NaN</td>\n",
       "    </tr>\n",
       "    <tr>\n",
       "      <th>4</th>\n",
       "      <td>Oncol Lett</td>\n",
       "      <td>PMC11197552</td>\n",
       "      <td>GSE14905</td>\n",
       "      <td>GSE14905</td>\n",
       "      <td>NaN</td>\n",
       "      <td>NaN</td>\n",
       "    </tr>\n",
       "    <tr>\n",
       "      <th>...</th>\n",
       "      <td>...</td>\n",
       "      <td>...</td>\n",
       "      <td>...</td>\n",
       "      <td>...</td>\n",
       "      <td>...</td>\n",
       "      <td>...</td>\n",
       "    </tr>\n",
       "    <tr>\n",
       "      <th>1445993</th>\n",
       "      <td>Cureus</td>\n",
       "      <td>PMC11260452</td>\n",
       "      <td>ERR195224</td>\n",
       "      <td>ERP001824</td>\n",
       "      <td>NaN</td>\n",
       "      <td>NaN</td>\n",
       "    </tr>\n",
       "    <tr>\n",
       "      <th>1445994</th>\n",
       "      <td>ESMO Open</td>\n",
       "      <td>PMC11260452</td>\n",
       "      <td>GSM495500</td>\n",
       "      <td>GSE19836</td>\n",
       "      <td>NaN</td>\n",
       "      <td>NaN</td>\n",
       "    </tr>\n",
       "    <tr>\n",
       "      <th>1445995</th>\n",
       "      <td>Cureus</td>\n",
       "      <td>PMC11260452</td>\n",
       "      <td>GSM495500</td>\n",
       "      <td>GSE19836</td>\n",
       "      <td>NaN</td>\n",
       "      <td>NaN</td>\n",
       "    </tr>\n",
       "    <tr>\n",
       "      <th>1445996</th>\n",
       "      <td>Cureus</td>\n",
       "      <td>PMC11260452</td>\n",
       "      <td>GSM495500</td>\n",
       "      <td>GSE19836</td>\n",
       "      <td>NaN</td>\n",
       "      <td>NaN</td>\n",
       "    </tr>\n",
       "    <tr>\n",
       "      <th>1445997</th>\n",
       "      <td>Nucleic Acids Res</td>\n",
       "      <td>PMC11260452</td>\n",
       "      <td>GSM495500</td>\n",
       "      <td>GSE19836</td>\n",
       "      <td>NaN</td>\n",
       "      <td>NaN</td>\n",
       "    </tr>\n",
       "  </tbody>\n",
       "</table>\n",
       "<p>1445998 rows × 6 columns</p>\n",
       "</div>"
      ],
      "text/plain": [
       "                   journal       pmc_ID  accession converted_accession  \\\n",
       "0               Fundam Res  PMC11200159  GSE264332           GSE264332   \n",
       "1               Fundam Res  PMC11197552  GSE150672           GSE150672   \n",
       "2               Fundam Res  PMC11197552   GSE13355            GSE13355   \n",
       "3               Fundam Res  PMC11197552     GPL570           GSE104749   \n",
       "4               Oncol Lett  PMC11197552   GSE14905            GSE14905   \n",
       "...                    ...          ...        ...                 ...   \n",
       "1445993             Cureus  PMC11260452  ERR195224           ERP001824   \n",
       "1445994          ESMO Open  PMC11260452  GSM495500            GSE19836   \n",
       "1445995             Cureus  PMC11260452  GSM495500            GSE19836   \n",
       "1445996             Cureus  PMC11260452  GSM495500            GSE19836   \n",
       "1445997  Nucleic Acids Res  PMC11260452  GSM495500            GSE19836   \n",
       "\n",
       "        SRA_accession_code GEO_accession_code  \n",
       "0                      NaN                NaN  \n",
       "1                      NaN                NaN  \n",
       "2                      NaN                NaN  \n",
       "3                      NaN                NaN  \n",
       "4                      NaN                NaN  \n",
       "...                    ...                ...  \n",
       "1445993                NaN                NaN  \n",
       "1445994                NaN                NaN  \n",
       "1445995                NaN                NaN  \n",
       "1445996                NaN                NaN  \n",
       "1445997                NaN                NaN  \n",
       "\n",
       "[1445998 rows x 6 columns]"
      ]
     },
     "execution_count": 40,
     "metadata": {},
     "output_type": "execute_result"
    }
   ],
   "source": [
    "ovAcc = pd.merge(pmcData, gsPMC_acc, how = \"left\", left_on = \"converted_accession\", right_on = \"SRA_accession_code\")\n",
    "ovAcc"
   ]
  },
  {
   "cell_type": "code",
   "execution_count": null,
   "metadata": {},
   "outputs": [
    {
     "name": "stdout",
     "output_type": "stream",
     "text": [
      "duplicated SRA datasets: 17982\n"
     ]
    }
   ],
   "source": [
    "# Count the number of SRA datasets also present in GEO\n",
    "numDupSRA = len(ovAcc[\"SRA_accession_code\"]) - ovAcc[\"SRA_accession_code\"].isna().sum()\n",
    "print(\"duplicated SRA datasets: \" + str(numDupSRA))"
   ]
  },
  {
   "cell_type": "code",
   "execution_count": null,
   "metadata": {},
   "outputs": [
    {
     "name": "stderr",
     "output_type": "stream",
     "text": [
      "/tmp/ipykernel_1273528/3574509571.py:4: SettingWithCopyWarning: \n",
      "A value is trying to be set on a copy of a slice from a DataFrame.\n",
      "Try using .loc[row_indexer,col_indexer] = value instead\n",
      "\n",
      "See the caveats in the documentation: https://pandas.pydata.org/pandas-docs/stable/user_guide/indexing.html#returning-a-view-versus-a-copy\n",
      "  ovAcc['converted_accession'] = ovAcc[\"GEO_accession_code\"]\n"
     ]
    },
    {
     "data": {
      "text/html": [
       "<div>\n",
       "<style scoped>\n",
       "    .dataframe tbody tr th:only-of-type {\n",
       "        vertical-align: middle;\n",
       "    }\n",
       "\n",
       "    .dataframe tbody tr th {\n",
       "        vertical-align: top;\n",
       "    }\n",
       "\n",
       "    .dataframe thead th {\n",
       "        text-align: right;\n",
       "    }\n",
       "</style>\n",
       "<table border=\"1\" class=\"dataframe\">\n",
       "  <thead>\n",
       "    <tr style=\"text-align: right;\">\n",
       "      <th></th>\n",
       "      <th>journal</th>\n",
       "      <th>pmc_ID</th>\n",
       "      <th>accession</th>\n",
       "      <th>converted_accession</th>\n",
       "      <th>SRA_accession_code</th>\n",
       "      <th>GEO_accession_code</th>\n",
       "    </tr>\n",
       "  </thead>\n",
       "  <tbody>\n",
       "    <tr>\n",
       "      <th>0</th>\n",
       "      <td>Fundam Res</td>\n",
       "      <td>PMC11200159</td>\n",
       "      <td>GSE264332</td>\n",
       "      <td>GSE264332</td>\n",
       "      <td>NaN</td>\n",
       "      <td>NaN</td>\n",
       "    </tr>\n",
       "    <tr>\n",
       "      <th>1</th>\n",
       "      <td>Fundam Res</td>\n",
       "      <td>PMC11197552</td>\n",
       "      <td>GSE150672</td>\n",
       "      <td>GSE150672</td>\n",
       "      <td>NaN</td>\n",
       "      <td>NaN</td>\n",
       "    </tr>\n",
       "    <tr>\n",
       "      <th>2</th>\n",
       "      <td>Fundam Res</td>\n",
       "      <td>PMC11197552</td>\n",
       "      <td>GSE13355</td>\n",
       "      <td>GSE13355</td>\n",
       "      <td>NaN</td>\n",
       "      <td>NaN</td>\n",
       "    </tr>\n",
       "    <tr>\n",
       "      <th>3</th>\n",
       "      <td>Fundam Res</td>\n",
       "      <td>PMC11197552</td>\n",
       "      <td>GPL570</td>\n",
       "      <td>GSE104749</td>\n",
       "      <td>NaN</td>\n",
       "      <td>NaN</td>\n",
       "    </tr>\n",
       "    <tr>\n",
       "      <th>4</th>\n",
       "      <td>Oncol Lett</td>\n",
       "      <td>PMC11197552</td>\n",
       "      <td>GSE14905</td>\n",
       "      <td>GSE14905</td>\n",
       "      <td>NaN</td>\n",
       "      <td>NaN</td>\n",
       "    </tr>\n",
       "    <tr>\n",
       "      <th>...</th>\n",
       "      <td>...</td>\n",
       "      <td>...</td>\n",
       "      <td>...</td>\n",
       "      <td>...</td>\n",
       "      <td>...</td>\n",
       "      <td>...</td>\n",
       "    </tr>\n",
       "    <tr>\n",
       "      <th>1445993</th>\n",
       "      <td>Cureus</td>\n",
       "      <td>PMC11260452</td>\n",
       "      <td>ERR195224</td>\n",
       "      <td>ERP001824</td>\n",
       "      <td>NaN</td>\n",
       "      <td>NaN</td>\n",
       "    </tr>\n",
       "    <tr>\n",
       "      <th>1445994</th>\n",
       "      <td>ESMO Open</td>\n",
       "      <td>PMC11260452</td>\n",
       "      <td>GSM495500</td>\n",
       "      <td>GSE19836</td>\n",
       "      <td>NaN</td>\n",
       "      <td>NaN</td>\n",
       "    </tr>\n",
       "    <tr>\n",
       "      <th>1445995</th>\n",
       "      <td>Cureus</td>\n",
       "      <td>PMC11260452</td>\n",
       "      <td>GSM495500</td>\n",
       "      <td>GSE19836</td>\n",
       "      <td>NaN</td>\n",
       "      <td>NaN</td>\n",
       "    </tr>\n",
       "    <tr>\n",
       "      <th>1445996</th>\n",
       "      <td>Cureus</td>\n",
       "      <td>PMC11260452</td>\n",
       "      <td>GSM495500</td>\n",
       "      <td>GSE19836</td>\n",
       "      <td>NaN</td>\n",
       "      <td>NaN</td>\n",
       "    </tr>\n",
       "    <tr>\n",
       "      <th>1445997</th>\n",
       "      <td>Nucleic Acids Res</td>\n",
       "      <td>PMC11260452</td>\n",
       "      <td>GSM495500</td>\n",
       "      <td>GSE19836</td>\n",
       "      <td>NaN</td>\n",
       "      <td>NaN</td>\n",
       "    </tr>\n",
       "  </tbody>\n",
       "</table>\n",
       "<p>1428016 rows × 6 columns</p>\n",
       "</div>"
      ],
      "text/plain": [
       "                   journal       pmc_ID  accession converted_accession  \\\n",
       "0               Fundam Res  PMC11200159  GSE264332           GSE264332   \n",
       "1               Fundam Res  PMC11197552  GSE150672           GSE150672   \n",
       "2               Fundam Res  PMC11197552   GSE13355            GSE13355   \n",
       "3               Fundam Res  PMC11197552     GPL570           GSE104749   \n",
       "4               Oncol Lett  PMC11197552   GSE14905            GSE14905   \n",
       "...                    ...          ...        ...                 ...   \n",
       "1445993             Cureus  PMC11260452  ERR195224           ERP001824   \n",
       "1445994          ESMO Open  PMC11260452  GSM495500            GSE19836   \n",
       "1445995             Cureus  PMC11260452  GSM495500            GSE19836   \n",
       "1445996             Cureus  PMC11260452  GSM495500            GSE19836   \n",
       "1445997  Nucleic Acids Res  PMC11260452  GSM495500            GSE19836   \n",
       "\n",
       "        SRA_accession_code GEO_accession_code  \n",
       "0                      NaN                NaN  \n",
       "1                      NaN                NaN  \n",
       "2                      NaN                NaN  \n",
       "3                      NaN                NaN  \n",
       "4                      NaN                NaN  \n",
       "...                    ...                ...  \n",
       "1445993                NaN                NaN  \n",
       "1445994                NaN                NaN  \n",
       "1445995                NaN                NaN  \n",
       "1445996                NaN                NaN  \n",
       "1445997                NaN                NaN  \n",
       "\n",
       "[1428016 rows x 6 columns]"
      ]
     },
     "execution_count": 42,
     "metadata": {},
     "output_type": "execute_result"
    }
   ],
   "source": [
    "# convert SRA ID of duplicated datasets to GEO ID\n",
    "ovAccNA = ovAcc.loc[ovAcc[\"SRA_accession_code\"].isna(), :]\n",
    "ovAcc = ovAcc.loc[~ovAcc[\"SRA_accession_code\"].isna(), :]\n",
    "ovAcc['converted_accession'] = ovAcc[\"GEO_accession_code\"]\n",
    "ovAccNA"
   ]
  },
  {
   "cell_type": "code",
   "execution_count": null,
   "metadata": {},
   "outputs": [
    {
     "data": {
      "text/html": [
       "<div>\n",
       "<style scoped>\n",
       "    .dataframe tbody tr th:only-of-type {\n",
       "        vertical-align: middle;\n",
       "    }\n",
       "\n",
       "    .dataframe tbody tr th {\n",
       "        vertical-align: top;\n",
       "    }\n",
       "\n",
       "    .dataframe thead th {\n",
       "        text-align: right;\n",
       "    }\n",
       "</style>\n",
       "<table border=\"1\" class=\"dataframe\">\n",
       "  <thead>\n",
       "    <tr style=\"text-align: right;\">\n",
       "      <th></th>\n",
       "      <th>journal</th>\n",
       "      <th>pmc_ID</th>\n",
       "      <th>accession</th>\n",
       "      <th>converted_accession</th>\n",
       "    </tr>\n",
       "  </thead>\n",
       "  <tbody>\n",
       "    <tr>\n",
       "      <th>593</th>\n",
       "      <td>Cell Death Dis</td>\n",
       "      <td>PMC10007764</td>\n",
       "      <td>SRR1782846</td>\n",
       "      <td>GSE57945</td>\n",
       "    </tr>\n",
       "    <tr>\n",
       "      <th>594</th>\n",
       "      <td>Sci Rep</td>\n",
       "      <td>PMC10007764</td>\n",
       "      <td>SRR1782847</td>\n",
       "      <td>GSE57945</td>\n",
       "    </tr>\n",
       "    <tr>\n",
       "      <th>595</th>\n",
       "      <td>Ren Fail</td>\n",
       "      <td>PMC10007764</td>\n",
       "      <td>SRR1782846</td>\n",
       "      <td>GSE57945</td>\n",
       "    </tr>\n",
       "    <tr>\n",
       "      <th>596</th>\n",
       "      <td>Clin Cardiol</td>\n",
       "      <td>PMC10007764</td>\n",
       "      <td>SRR1782847</td>\n",
       "      <td>GSE57945</td>\n",
       "    </tr>\n",
       "    <tr>\n",
       "      <th>715</th>\n",
       "      <td>Front Microbiol</td>\n",
       "      <td>PMC10010562</td>\n",
       "      <td>SRR8427519</td>\n",
       "      <td>GSE124904</td>\n",
       "    </tr>\n",
       "    <tr>\n",
       "      <th>...</th>\n",
       "      <td>...</td>\n",
       "      <td>...</td>\n",
       "      <td>...</td>\n",
       "      <td>...</td>\n",
       "    </tr>\n",
       "    <tr>\n",
       "      <th>1445993</th>\n",
       "      <td>Cureus</td>\n",
       "      <td>PMC11260452</td>\n",
       "      <td>ERR195224</td>\n",
       "      <td>ERP001824</td>\n",
       "    </tr>\n",
       "    <tr>\n",
       "      <th>1445994</th>\n",
       "      <td>ESMO Open</td>\n",
       "      <td>PMC11260452</td>\n",
       "      <td>GSM495500</td>\n",
       "      <td>GSE19836</td>\n",
       "    </tr>\n",
       "    <tr>\n",
       "      <th>1445995</th>\n",
       "      <td>Cureus</td>\n",
       "      <td>PMC11260452</td>\n",
       "      <td>GSM495500</td>\n",
       "      <td>GSE19836</td>\n",
       "    </tr>\n",
       "    <tr>\n",
       "      <th>1445996</th>\n",
       "      <td>Cureus</td>\n",
       "      <td>PMC11260452</td>\n",
       "      <td>GSM495500</td>\n",
       "      <td>GSE19836</td>\n",
       "    </tr>\n",
       "    <tr>\n",
       "      <th>1445997</th>\n",
       "      <td>Nucleic Acids Res</td>\n",
       "      <td>PMC11260452</td>\n",
       "      <td>GSM495500</td>\n",
       "      <td>GSE19836</td>\n",
       "    </tr>\n",
       "  </tbody>\n",
       "</table>\n",
       "<p>1445998 rows × 4 columns</p>\n",
       "</div>"
      ],
      "text/plain": [
       "                   journal       pmc_ID   accession converted_accession\n",
       "593         Cell Death Dis  PMC10007764  SRR1782846            GSE57945\n",
       "594                Sci Rep  PMC10007764  SRR1782847            GSE57945\n",
       "595               Ren Fail  PMC10007764  SRR1782846            GSE57945\n",
       "596           Clin Cardiol  PMC10007764  SRR1782847            GSE57945\n",
       "715        Front Microbiol  PMC10010562  SRR8427519           GSE124904\n",
       "...                    ...          ...         ...                 ...\n",
       "1445993             Cureus  PMC11260452   ERR195224           ERP001824\n",
       "1445994          ESMO Open  PMC11260452   GSM495500            GSE19836\n",
       "1445995             Cureus  PMC11260452   GSM495500            GSE19836\n",
       "1445996             Cureus  PMC11260452   GSM495500            GSE19836\n",
       "1445997  Nucleic Acids Res  PMC11260452   GSM495500            GSE19836\n",
       "\n",
       "[1445998 rows x 4 columns]"
      ]
     },
     "execution_count": 43,
     "metadata": {},
     "output_type": "execute_result"
    }
   ],
   "source": [
    "pmcData = pd.concat([ovAcc, ovAccNA], axis = 0) \n",
    "pmcData = pmcData[['journal', 'pmc_ID', 'accession', 'converted_accession']]\n",
    "pmcData"
   ]
  },
  {
   "cell_type": "code",
   "execution_count": null,
   "metadata": {},
   "outputs": [
    {
     "data": {
      "text/html": [
       "<div>\n",
       "<style scoped>\n",
       "    .dataframe tbody tr th:only-of-type {\n",
       "        vertical-align: middle;\n",
       "    }\n",
       "\n",
       "    .dataframe tbody tr th {\n",
       "        vertical-align: top;\n",
       "    }\n",
       "\n",
       "    .dataframe thead th {\n",
       "        text-align: right;\n",
       "    }\n",
       "</style>\n",
       "<table border=\"1\" class=\"dataframe\">\n",
       "  <thead>\n",
       "    <tr style=\"text-align: right;\">\n",
       "      <th></th>\n",
       "      <th>pmc_ID</th>\n",
       "      <th>SRA_accession_code</th>\n",
       "      <th>GEO_accession_code</th>\n",
       "      <th>accession</th>\n",
       "      <th>converted_accession</th>\n",
       "    </tr>\n",
       "  </thead>\n",
       "  <tbody>\n",
       "    <tr>\n",
       "      <th>0</th>\n",
       "      <td>PMC5850328</td>\n",
       "      <td>SRP111833</td>\n",
       "      <td>GSE101341</td>\n",
       "      <td>GSE99823</td>\n",
       "      <td>GSE99823</td>\n",
       "    </tr>\n",
       "    <tr>\n",
       "      <th>1</th>\n",
       "      <td>PMC5850328</td>\n",
       "      <td>SRP111833</td>\n",
       "      <td>GSE101341</td>\n",
       "      <td>GSE99823</td>\n",
       "      <td>GSE99823</td>\n",
       "    </tr>\n",
       "    <tr>\n",
       "      <th>2</th>\n",
       "      <td>PMC5850328</td>\n",
       "      <td>SRP111833</td>\n",
       "      <td>GSE101341</td>\n",
       "      <td>GSE101341</td>\n",
       "      <td>GSE101341</td>\n",
       "    </tr>\n",
       "    <tr>\n",
       "      <th>3</th>\n",
       "      <td>PMC5850328</td>\n",
       "      <td>SRP111833</td>\n",
       "      <td>GSE101341</td>\n",
       "      <td>GSE101341</td>\n",
       "      <td>GSE101341</td>\n",
       "    </tr>\n",
       "    <tr>\n",
       "      <th>4</th>\n",
       "      <td>PMC6349857</td>\n",
       "      <td>SRP162020</td>\n",
       "      <td>GSE120109</td>\n",
       "      <td>GSE116073</td>\n",
       "      <td>GSE116073</td>\n",
       "    </tr>\n",
       "    <tr>\n",
       "      <th>...</th>\n",
       "      <td>...</td>\n",
       "      <td>...</td>\n",
       "      <td>...</td>\n",
       "      <td>...</td>\n",
       "      <td>...</td>\n",
       "    </tr>\n",
       "    <tr>\n",
       "      <th>36101</th>\n",
       "      <td>PMC6925996</td>\n",
       "      <td>GSE140448</td>\n",
       "      <td>E-GEOD-140448</td>\n",
       "      <td>GSE140448</td>\n",
       "      <td>E-GEOD-140448</td>\n",
       "    </tr>\n",
       "    <tr>\n",
       "      <th>36102</th>\n",
       "      <td>PMC6925996</td>\n",
       "      <td>GSE140448</td>\n",
       "      <td>E-GEOD-140448</td>\n",
       "      <td>GSE140448</td>\n",
       "      <td>E-GEOD-140448</td>\n",
       "    </tr>\n",
       "    <tr>\n",
       "      <th>36103</th>\n",
       "      <td>PMC7328513</td>\n",
       "      <td>GSE137235</td>\n",
       "      <td>E-GEOD-137235</td>\n",
       "      <td>GSE137233</td>\n",
       "      <td>GSE137233</td>\n",
       "    </tr>\n",
       "    <tr>\n",
       "      <th>36104</th>\n",
       "      <td>PMC7328513</td>\n",
       "      <td>GSE137235</td>\n",
       "      <td>E-GEOD-137235</td>\n",
       "      <td>GSE137234</td>\n",
       "      <td>GSE137234</td>\n",
       "    </tr>\n",
       "    <tr>\n",
       "      <th>36105</th>\n",
       "      <td>PMC7328513</td>\n",
       "      <td>GSE137235</td>\n",
       "      <td>E-GEOD-137235</td>\n",
       "      <td>GSE137232</td>\n",
       "      <td>GSE137232</td>\n",
       "    </tr>\n",
       "  </tbody>\n",
       "</table>\n",
       "<p>36106 rows × 5 columns</p>\n",
       "</div>"
      ],
      "text/plain": [
       "           pmc_ID SRA_accession_code GEO_accession_code  accession  \\\n",
       "0      PMC5850328          SRP111833          GSE101341   GSE99823   \n",
       "1      PMC5850328          SRP111833          GSE101341   GSE99823   \n",
       "2      PMC5850328          SRP111833          GSE101341  GSE101341   \n",
       "3      PMC5850328          SRP111833          GSE101341  GSE101341   \n",
       "4      PMC6349857          SRP162020          GSE120109  GSE116073   \n",
       "...           ...                ...                ...        ...   \n",
       "36101  PMC6925996          GSE140448      E-GEOD-140448  GSE140448   \n",
       "36102  PMC6925996          GSE140448      E-GEOD-140448  GSE140448   \n",
       "36103  PMC7328513          GSE137235      E-GEOD-137235  GSE137233   \n",
       "36104  PMC7328513          GSE137235      E-GEOD-137235  GSE137234   \n",
       "36105  PMC7328513          GSE137235      E-GEOD-137235  GSE137232   \n",
       "\n",
       "      converted_accession  \n",
       "0                GSE99823  \n",
       "1                GSE99823  \n",
       "2               GSE101341  \n",
       "3               GSE101341  \n",
       "4               GSE116073  \n",
       "...                   ...  \n",
       "36101       E-GEOD-140448  \n",
       "36102       E-GEOD-140448  \n",
       "36103           GSE137233  \n",
       "36104           GSE137234  \n",
       "36105           GSE137232  \n",
       "\n",
       "[36106 rows x 5 columns]"
      ]
     },
     "execution_count": 44,
     "metadata": {},
     "output_type": "execute_result"
    }
   ],
   "source": [
    "# QC step: validate our publication-dataset relationships with gold standard table\n",
    "# merge my PMC ID-accession information with gold standard\n",
    "# in this table: only those papers in my data AND gold standard\n",
    "ovPMC = pd.merge(\n",
    "    gsPMC[\n",
    "        ['pmc_ID', 'SRA_accession_code', 'GEO_accession_code']\n",
    "    ],\n",
    "    pmcData[\n",
    "        ['pmc_ID', 'accession', 'converted_accession']\n",
    "    ], \n",
    "    on = \"pmc_ID\", \n",
    "    how = \"inner\")\n",
    "ovPMC"
   ]
  },
  {
   "cell_type": "code",
   "execution_count": null,
   "metadata": {},
   "outputs": [
    {
     "data": {
      "text/html": [
       "<div>\n",
       "<style scoped>\n",
       "    .dataframe tbody tr th:only-of-type {\n",
       "        vertical-align: middle;\n",
       "    }\n",
       "\n",
       "    .dataframe tbody tr th {\n",
       "        vertical-align: top;\n",
       "    }\n",
       "\n",
       "    .dataframe thead th {\n",
       "        text-align: right;\n",
       "    }\n",
       "</style>\n",
       "<table border=\"1\" class=\"dataframe\">\n",
       "  <thead>\n",
       "    <tr style=\"text-align: right;\">\n",
       "      <th></th>\n",
       "      <th>pmc_ID</th>\n",
       "      <th>SRA_accession_code</th>\n",
       "      <th>GEO_accession_code</th>\n",
       "      <th>accession</th>\n",
       "      <th>converted_accession</th>\n",
       "      <th>match</th>\n",
       "    </tr>\n",
       "  </thead>\n",
       "  <tbody>\n",
       "    <tr>\n",
       "      <th>0</th>\n",
       "      <td>PMC5850328</td>\n",
       "      <td>SRP111833</td>\n",
       "      <td>GSE101341</td>\n",
       "      <td>GSE99823</td>\n",
       "      <td>GSE99823</td>\n",
       "      <td>False</td>\n",
       "    </tr>\n",
       "    <tr>\n",
       "      <th>1</th>\n",
       "      <td>PMC5850328</td>\n",
       "      <td>SRP111833</td>\n",
       "      <td>GSE101341</td>\n",
       "      <td>GSE99823</td>\n",
       "      <td>GSE99823</td>\n",
       "      <td>False</td>\n",
       "    </tr>\n",
       "    <tr>\n",
       "      <th>2</th>\n",
       "      <td>PMC5850328</td>\n",
       "      <td>SRP111833</td>\n",
       "      <td>GSE101341</td>\n",
       "      <td>GSE101341</td>\n",
       "      <td>GSE101341</td>\n",
       "      <td>True</td>\n",
       "    </tr>\n",
       "    <tr>\n",
       "      <th>3</th>\n",
       "      <td>PMC5850328</td>\n",
       "      <td>SRP111833</td>\n",
       "      <td>GSE101341</td>\n",
       "      <td>GSE101341</td>\n",
       "      <td>GSE101341</td>\n",
       "      <td>True</td>\n",
       "    </tr>\n",
       "    <tr>\n",
       "      <th>4</th>\n",
       "      <td>PMC6349857</td>\n",
       "      <td>SRP162020</td>\n",
       "      <td>GSE120109</td>\n",
       "      <td>GSE116073</td>\n",
       "      <td>GSE116073</td>\n",
       "      <td>False</td>\n",
       "    </tr>\n",
       "    <tr>\n",
       "      <th>...</th>\n",
       "      <td>...</td>\n",
       "      <td>...</td>\n",
       "      <td>...</td>\n",
       "      <td>...</td>\n",
       "      <td>...</td>\n",
       "      <td>...</td>\n",
       "    </tr>\n",
       "    <tr>\n",
       "      <th>36101</th>\n",
       "      <td>PMC6925996</td>\n",
       "      <td>GSE140448</td>\n",
       "      <td>E-GEOD-140448</td>\n",
       "      <td>GSE140448</td>\n",
       "      <td>E-GEOD-140448</td>\n",
       "      <td>True</td>\n",
       "    </tr>\n",
       "    <tr>\n",
       "      <th>36102</th>\n",
       "      <td>PMC6925996</td>\n",
       "      <td>GSE140448</td>\n",
       "      <td>E-GEOD-140448</td>\n",
       "      <td>GSE140448</td>\n",
       "      <td>E-GEOD-140448</td>\n",
       "      <td>True</td>\n",
       "    </tr>\n",
       "    <tr>\n",
       "      <th>36103</th>\n",
       "      <td>PMC7328513</td>\n",
       "      <td>GSE137235</td>\n",
       "      <td>E-GEOD-137235</td>\n",
       "      <td>GSE137233</td>\n",
       "      <td>GSE137233</td>\n",
       "      <td>False</td>\n",
       "    </tr>\n",
       "    <tr>\n",
       "      <th>36104</th>\n",
       "      <td>PMC7328513</td>\n",
       "      <td>GSE137235</td>\n",
       "      <td>E-GEOD-137235</td>\n",
       "      <td>GSE137234</td>\n",
       "      <td>GSE137234</td>\n",
       "      <td>False</td>\n",
       "    </tr>\n",
       "    <tr>\n",
       "      <th>36105</th>\n",
       "      <td>PMC7328513</td>\n",
       "      <td>GSE137235</td>\n",
       "      <td>E-GEOD-137235</td>\n",
       "      <td>GSE137232</td>\n",
       "      <td>GSE137232</td>\n",
       "      <td>False</td>\n",
       "    </tr>\n",
       "  </tbody>\n",
       "</table>\n",
       "<p>36106 rows × 6 columns</p>\n",
       "</div>"
      ],
      "text/plain": [
       "           pmc_ID SRA_accession_code GEO_accession_code  accession  \\\n",
       "0      PMC5850328          SRP111833          GSE101341   GSE99823   \n",
       "1      PMC5850328          SRP111833          GSE101341   GSE99823   \n",
       "2      PMC5850328          SRP111833          GSE101341  GSE101341   \n",
       "3      PMC5850328          SRP111833          GSE101341  GSE101341   \n",
       "4      PMC6349857          SRP162020          GSE120109  GSE116073   \n",
       "...           ...                ...                ...        ...   \n",
       "36101  PMC6925996          GSE140448      E-GEOD-140448  GSE140448   \n",
       "36102  PMC6925996          GSE140448      E-GEOD-140448  GSE140448   \n",
       "36103  PMC7328513          GSE137235      E-GEOD-137235  GSE137233   \n",
       "36104  PMC7328513          GSE137235      E-GEOD-137235  GSE137234   \n",
       "36105  PMC7328513          GSE137235      E-GEOD-137235  GSE137232   \n",
       "\n",
       "      converted_accession  match  \n",
       "0                GSE99823  False  \n",
       "1                GSE99823  False  \n",
       "2               GSE101341   True  \n",
       "3               GSE101341   True  \n",
       "4               GSE116073  False  \n",
       "...                   ...    ...  \n",
       "36101       E-GEOD-140448   True  \n",
       "36102       E-GEOD-140448   True  \n",
       "36103           GSE137233  False  \n",
       "36104           GSE137234  False  \n",
       "36105           GSE137232  False  \n",
       "\n",
       "[36106 rows x 6 columns]"
      ]
     },
     "execution_count": 45,
     "metadata": {},
     "output_type": "execute_result"
    }
   ],
   "source": [
    "# check for matches between both accession and converted accession, SRA and GEO\n",
    "ovPMC['match'] = (ovPMC['converted_accession'] == ovPMC['GEO_accession_code']).astype(int)\n",
    "ovPMC['match'] += (ovPMC['converted_accession'] == ovPMC['SRA_accession_code']).astype(int)\n",
    "ovPMC['match'] += (ovPMC['accession'] == ovPMC['GEO_accession_code']).astype(int)\n",
    "ovPMC['match'] += (ovPMC['accession'] == ovPMC['SRA_accession_code']).astype(int)\n",
    "ovPMC['match'] = ovPMC['match'] > 0\n",
    "ovPMC"
   ]
  },
  {
   "cell_type": "code",
   "execution_count": null,
   "metadata": {},
   "outputs": [
    {
     "data": {
      "text/html": [
       "<div>\n",
       "<style scoped>\n",
       "    .dataframe tbody tr th:only-of-type {\n",
       "        vertical-align: middle;\n",
       "    }\n",
       "\n",
       "    .dataframe tbody tr th {\n",
       "        vertical-align: top;\n",
       "    }\n",
       "\n",
       "    .dataframe thead th {\n",
       "        text-align: right;\n",
       "    }\n",
       "</style>\n",
       "<table border=\"1\" class=\"dataframe\">\n",
       "  <thead>\n",
       "    <tr style=\"text-align: right;\">\n",
       "      <th></th>\n",
       "      <th>pmc_ID</th>\n",
       "      <th>match</th>\n",
       "    </tr>\n",
       "  </thead>\n",
       "  <tbody>\n",
       "    <tr>\n",
       "      <th>21</th>\n",
       "      <td>PMC2871053</td>\n",
       "      <td>False</td>\n",
       "    </tr>\n",
       "    <tr>\n",
       "      <th>23</th>\n",
       "      <td>PMC2885365</td>\n",
       "      <td>False</td>\n",
       "    </tr>\n",
       "    <tr>\n",
       "      <th>30</th>\n",
       "      <td>PMC2917008</td>\n",
       "      <td>False</td>\n",
       "    </tr>\n",
       "    <tr>\n",
       "      <th>36</th>\n",
       "      <td>PMC2990499</td>\n",
       "      <td>False</td>\n",
       "    </tr>\n",
       "    <tr>\n",
       "      <th>49</th>\n",
       "      <td>PMC3040678</td>\n",
       "      <td>False</td>\n",
       "    </tr>\n",
       "    <tr>\n",
       "      <th>...</th>\n",
       "      <td>...</td>\n",
       "      <td>...</td>\n",
       "    </tr>\n",
       "    <tr>\n",
       "      <th>7013</th>\n",
       "      <td>PMC9151700</td>\n",
       "      <td>False</td>\n",
       "    </tr>\n",
       "    <tr>\n",
       "      <th>7026</th>\n",
       "      <td>PMC9393397</td>\n",
       "      <td>False</td>\n",
       "    </tr>\n",
       "    <tr>\n",
       "      <th>7033</th>\n",
       "      <td>PMC9600465</td>\n",
       "      <td>False</td>\n",
       "    </tr>\n",
       "    <tr>\n",
       "      <th>7045</th>\n",
       "      <td>PMC9793650</td>\n",
       "      <td>False</td>\n",
       "    </tr>\n",
       "    <tr>\n",
       "      <th>7054</th>\n",
       "      <td>PMC9948694</td>\n",
       "      <td>False</td>\n",
       "    </tr>\n",
       "  </tbody>\n",
       "</table>\n",
       "<p>1129 rows × 2 columns</p>\n",
       "</div>"
      ],
      "text/plain": [
       "          pmc_ID  match\n",
       "21    PMC2871053  False\n",
       "23    PMC2885365  False\n",
       "30    PMC2917008  False\n",
       "36    PMC2990499  False\n",
       "49    PMC3040678  False\n",
       "...          ...    ...\n",
       "7013  PMC9151700  False\n",
       "7026  PMC9393397  False\n",
       "7033  PMC9600465  False\n",
       "7045  PMC9793650  False\n",
       "7054  PMC9948694  False\n",
       "\n",
       "[1129 rows x 2 columns]"
      ]
     },
     "execution_count": 46,
     "metadata": {},
     "output_type": "execute_result"
    }
   ],
   "source": [
    "# group by paper: if a paper had at least one successful match, we count it as a success\n",
    "ovPMC_byPap = ovPMC[['pmc_ID', 'match']].groupby(\"pmc_ID\", as_index = False)['match'].max()\n",
    "ovPMC_byPap = pd.DataFrame(ovPMC_byPap)\n",
    "# ovPMC_byPap\n",
    "\n",
    "ovPMC_byPap.loc[~ovPMC_byPap['match'], :]"
   ]
  },
  {
   "cell_type": "code",
   "execution_count": null,
   "metadata": {},
   "outputs": [
    {
     "name": "stdout",
     "output_type": "stream",
     "text": [
      "Number of papers overlapping with gold standard: 7057\n",
      "Number of such papers validated by gold standard: 5928\n",
      "Percent validated: 0.8400170043928015\n"
     ]
    }
   ],
   "source": [
    "# count up results and report percentage\n",
    "totRelsSub = len(ovPMC_byPap['pmc_ID'])\n",
    "print(\"Number of papers overlapping with gold standard: \" + str(totRelsSub))\n",
    "totMatching = ovPMC_byPap['match'].sum()\n",
    "print(\"Number of such papers validated by gold standard: \" + str(totMatching))\n",
    "pctVal = totMatching / totRelsSub\n",
    "print(\"Percent validated: \" + str(pctVal))"
   ]
  },
  {
   "cell_type": "code",
   "execution_count": null,
   "metadata": {},
   "outputs": [],
   "source": [
    "sraAttributes = sraReference"
   ]
  },
  {
   "cell_type": "code",
   "execution_count": null,
   "metadata": {},
   "outputs": [],
   "source": [
    "# Convert SRA dates to a universal format\n",
    "pd.set_option('display.max_columns', 50)\n",
    "sraAttributes['ReleaseDate'] = sraAttributes['ReleaseDate'].str[0:10]"
   ]
  },
  {
   "cell_type": "code",
   "execution_count": null,
   "metadata": {},
   "outputs": [],
   "source": [
    "# Define functions to convert GEO dates to a universal format\n",
    "def strToMonth(m):\n",
    "    if(m == 'Jan'):\n",
    "        return '01'\n",
    "    elif(m == 'Feb'):\n",
    "        return '02'\n",
    "    elif(m == 'Mar'):\n",
    "        return '03'\n",
    "    elif(m == 'Apr'):\n",
    "        return '04'\n",
    "    elif(m == 'May'):\n",
    "        return '05'\n",
    "    elif(m == 'Jun'):\n",
    "        return '06'\n",
    "    elif(m == 'Jul'):\n",
    "        return '07'\n",
    "    elif(m == 'Aug'):\n",
    "        return '08'\n",
    "    elif(m == 'Sep'):\n",
    "        return '09'\n",
    "    elif(m == 'Oct'):\n",
    "        return '10'\n",
    "    elif(m == 'Nov'):\n",
    "        return '11'\n",
    "    elif(m == 'Dec'):\n",
    "        return '12'\n",
    "    else:\n",
    "        return(np.NaN)\n",
    "    \n",
    "def convGEODate(d):\n",
    "    if(type(d) == str):\n",
    "        mon = strToMonth(d[0:3])\n",
    "        day = d[4:6]\n",
    "        yr = d[8:12]\n",
    "        return yr + '-' + mon + '-' + day\n",
    "    else:\n",
    "        return np.NaN"
   ]
  },
  {
   "cell_type": "code",
   "execution_count": null,
   "metadata": {},
   "outputs": [],
   "source": [
    "# import GEO attribute data and add Series column\n",
    "geoPlatforms = pd.read_csv('../data/geo_platforms.csv')\n",
    "geoPlatforms.rename(columns={'Accession':'Platform'}, inplace = True)\n",
    "techByPlatform = geoPlatforms[['Platform', 'Technology']]\n",
    "\n",
    "# allData contains metadata matched to GEO series, but lacks 'Technology' column\n",
    "geoAttributes = pd.merge(allData, techByPlatform, how = 'left', on = 'Platform')\n",
    "# geoAttributes"
   ]
  },
  {
   "cell_type": "code",
   "execution_count": null,
   "metadata": {},
   "outputs": [],
   "source": [
    "# convert GEO dates to universal format\n",
    "dates = []\n",
    "for i in geoAttributes['Release Date_x']:\n",
    "    dates.append(convGEODate(i))\n",
    "geoAttributes['Release Date_x'] = dates\n",
    "# geoAttributes"
   ]
  },
  {
   "cell_type": "code",
   "execution_count": null,
   "metadata": {},
   "outputs": [],
   "source": [
    "# Add a column tagging each accession as GEO or SRA\n",
    "\n",
    "repoList = []\n",
    "\n",
    "for i in pmcData['converted_accession']:\n",
    "    if(type(i) == str):\n",
    "        if('GSE' in i or 'GPL' in i):\n",
    "            repoList.append('GEO')\n",
    "        elif('SRP' in i or 'ERP' in i or 'DRP' in i):\n",
    "            repoList.append('SRA')\n",
    "        else:\n",
    "            repoList.append(np.NaN)\n",
    "    else:\n",
    "        repoList.append(np.NaN)\n",
    "        \n",
    "pmcData['repository'] = repoList\n",
    "# pmcData"
   ]
  },
  {
   "cell_type": "code",
   "execution_count": null,
   "metadata": {},
   "outputs": [
    {
     "data": {
      "text/html": [
       "<div>\n",
       "<style scoped>\n",
       "    .dataframe tbody tr th:only-of-type {\n",
       "        vertical-align: middle;\n",
       "    }\n",
       "\n",
       "    .dataframe tbody tr th {\n",
       "        vertical-align: top;\n",
       "    }\n",
       "\n",
       "    .dataframe thead th {\n",
       "        text-align: right;\n",
       "    }\n",
       "</style>\n",
       "<table border=\"1\" class=\"dataframe\">\n",
       "  <thead>\n",
       "    <tr style=\"text-align: right;\">\n",
       "      <th></th>\n",
       "      <th>pmc_ID</th>\n",
       "      <th>Date</th>\n",
       "    </tr>\n",
       "  </thead>\n",
       "  <tbody>\n",
       "    <tr>\n",
       "      <th>4230613</th>\n",
       "      <td>PMC8254333</td>\n",
       "      <td>2021/6/23</td>\n",
       "    </tr>\n",
       "    <tr>\n",
       "      <th>86862</th>\n",
       "      <td>PMC7944092</td>\n",
       "      <td>2021/1/21</td>\n",
       "    </tr>\n",
       "    <tr>\n",
       "      <th>2867552</th>\n",
       "      <td>PMC9689740</td>\n",
       "      <td>2022/10/31</td>\n",
       "    </tr>\n",
       "    <tr>\n",
       "      <th>820267</th>\n",
       "      <td>PMC10547080</td>\n",
       "      <td>2023/8/16</td>\n",
       "    </tr>\n",
       "    <tr>\n",
       "      <th>441117</th>\n",
       "      <td>PMC10928451</td>\n",
       "      <td>2024/2/06</td>\n",
       "    </tr>\n",
       "  </tbody>\n",
       "</table>\n",
       "</div>"
      ],
      "text/plain": [
       "              pmc_ID        Date\n",
       "4230613   PMC8254333   2021/6/23\n",
       "86862     PMC7944092   2021/1/21\n",
       "2867552   PMC9689740  2022/10/31\n",
       "820267   PMC10547080   2023/8/16\n",
       "441117   PMC10928451   2024/2/06"
      ]
     },
     "execution_count": 55,
     "metadata": {},
     "output_type": "execute_result"
    }
   ],
   "source": [
    "# add column for paper publish date\n",
    "# this data was scraped from XML files on the hoffman2 cluster: /u/scratch/n/nikodm/pmcOA/\n",
    "\n",
    "pmc_dates = pd.read_csv('/home/nicolaedrabcinski/research/lab/reusability/data/processed/pre_filter_dates.csv')\n",
    "pmc_dates['pmc_ID'] = pmc_dates['File Name'].apply(lambda x: x.split('/')[-1].split('.')[0])\n",
    "pmc_dates = pmc_dates[['pmc_ID', 'Date']]\n",
    "pmc_dates.sample(5)"
   ]
  },
  {
   "cell_type": "code",
   "execution_count": null,
   "metadata": {},
   "outputs": [
    {
     "data": {
      "text/html": [
       "<div>\n",
       "<style scoped>\n",
       "    .dataframe tbody tr th:only-of-type {\n",
       "        vertical-align: middle;\n",
       "    }\n",
       "\n",
       "    .dataframe tbody tr th {\n",
       "        vertical-align: top;\n",
       "    }\n",
       "\n",
       "    .dataframe thead th {\n",
       "        text-align: right;\n",
       "    }\n",
       "</style>\n",
       "<table border=\"1\" class=\"dataframe\">\n",
       "  <thead>\n",
       "    <tr style=\"text-align: right;\">\n",
       "      <th></th>\n",
       "      <th>journal</th>\n",
       "      <th>pmc_ID</th>\n",
       "      <th>accession</th>\n",
       "      <th>converted_accession</th>\n",
       "      <th>repository</th>\n",
       "      <th>Date</th>\n",
       "    </tr>\n",
       "  </thead>\n",
       "  <tbody>\n",
       "    <tr>\n",
       "      <th>743509</th>\n",
       "      <td>Transl Lung Cancer Res</td>\n",
       "      <td>PMC7797069</td>\n",
       "      <td>GSE119715</td>\n",
       "      <td>GSE119715</td>\n",
       "      <td>GEO</td>\n",
       "      <td>2020/11/07</td>\n",
       "    </tr>\n",
       "    <tr>\n",
       "      <th>790114</th>\n",
       "      <td>Materials (Basel)</td>\n",
       "      <td>PMC7930052</td>\n",
       "      <td>GSE22428</td>\n",
       "      <td>GSE22428</td>\n",
       "      <td>GEO</td>\n",
       "      <td>2021/2/9</td>\n",
       "    </tr>\n",
       "    <tr>\n",
       "      <th>911259</th>\n",
       "      <td>medRxiv</td>\n",
       "      <td>PMC7945591</td>\n",
       "      <td>GSE62564</td>\n",
       "      <td>GSE62564</td>\n",
       "      <td>GEO</td>\n",
       "      <td>2021/1/11</td>\n",
       "    </tr>\n",
       "    <tr>\n",
       "      <th>1096068</th>\n",
       "      <td>Biomolecules</td>\n",
       "      <td>PMC8932180</td>\n",
       "      <td>GSE7305</td>\n",
       "      <td>GSE7305</td>\n",
       "      <td>GEO</td>\n",
       "      <td>2022/3/2</td>\n",
       "    </tr>\n",
       "    <tr>\n",
       "      <th>335558</th>\n",
       "      <td>Aerobiologia (Bologna)</td>\n",
       "      <td>PMC5640920</td>\n",
       "      <td>PRJNA399233</td>\n",
       "      <td>SRP117150</td>\n",
       "      <td>SRA</td>\n",
       "      <td>2017/9/27</td>\n",
       "    </tr>\n",
       "  </tbody>\n",
       "</table>\n",
       "</div>"
      ],
      "text/plain": [
       "                        journal      pmc_ID    accession converted_accession  \\\n",
       "743509   Transl Lung Cancer Res  PMC7797069    GSE119715           GSE119715   \n",
       "790114        Materials (Basel)  PMC7930052     GSE22428            GSE22428   \n",
       "911259                  medRxiv  PMC7945591     GSE62564            GSE62564   \n",
       "1096068            Biomolecules  PMC8932180      GSE7305             GSE7305   \n",
       "335558   Aerobiologia (Bologna)  PMC5640920  PRJNA399233           SRP117150   \n",
       "\n",
       "        repository        Date  \n",
       "743509         GEO  2020/11/07  \n",
       "790114         GEO    2021/2/9  \n",
       "911259         GEO   2021/1/11  \n",
       "1096068        GEO    2022/3/2  \n",
       "335558         SRA   2017/9/27  "
      ]
     },
     "execution_count": 56,
     "metadata": {},
     "output_type": "execute_result"
    }
   ],
   "source": [
    "pmcData = pd.merge(pmcData, pmc_dates, how = 'left', on = 'pmc_ID')\n",
    "pmcData = pmcData.rename(columns = {'date': 'pmc_date'})\n",
    "\n",
    "pmcData.sample(5)"
   ]
  },
  {
   "cell_type": "code",
   "execution_count": null,
   "metadata": {},
   "outputs": [],
   "source": [
    "# Get every factor we're interested in from our tables of GEO and SRA metadata...\n",
    "\n",
    "# take a slice of the GEO and SRA attribute tables with only the info we want\n",
    "slicedGEOAtt = geoAttributes[['Series', 'Release Date_x', 'Technology', 'Taxonomy_x']]\n",
    "slicedGEOAtt.columns = ['converted_accession', 'geoRelease', 'geoHardware', 'geoSpecies']\n",
    "slicedGEOAtt = slicedGEOAtt.drop_duplicates(subset = ['converted_accession'])\n",
    "\n",
    "slicedSRAAtt = sraAttributes[['SRAStudy', 'ReleaseDate', 'Model', \n",
    "                              'LibraryStrategy', 'ScientificName', \n",
    "                              'bases', 'avgLength', 'Consent']]\n",
    "slicedSRAAtt.columns = ['converted_accession', 'sraRelease', 'sraHardware', \n",
    "                        'sraLibrary_strategy', 'sraSpecies', \n",
    "                        'sraBases', 'sraAvg_length', 'sraAccess']\n",
    "slicedSRAAtt = slicedSRAAtt.drop_duplicates(subset = ['converted_accession'])"
   ]
  },
  {
   "cell_type": "code",
   "execution_count": null,
   "metadata": {},
   "outputs": [],
   "source": [
    "# special case for GEO: make an educated guess on library strategy based on hardware\n",
    "# These guesses are based on manually checking GEO series IDs that corresponded to various types of hardware\n",
    "\n",
    "gc = Counter(geoAttributes['Technology'])\n",
    "ls_guesses = pd.DataFrame.from_dict(gc, orient='index').reset_index()\n",
    "ls_guesses.columns = ['hardware', 'use_count']\n",
    "ls_guesses = ls_guesses.drop(labels = ['use_count'], axis = 1)\n",
    "\n",
    "ls = []\n",
    "\n",
    "for i in ls_guesses['hardware']:\n",
    "    if(i == 'high-throughput sequencing'):\n",
    "        ls.append('RNA-Seq')\n",
    "    elif(i == 'SAGE NlaIII' or i == 'spotted DNA/cDNA' or i == 'SAGE Sau3A' \n",
    "         or i == 'in situ oligonucleotide' or i == 'spotted oligonucleotide' \n",
    "         or i == 'antibody' or i == 'MPSS' or i == 'oligonucleotide beads' \n",
    "         or i == 'RT-PCR' or i == 'mixed spotted oligonucleotide/cDNA' \n",
    "         or i == 'spotted peptide or protein'):\n",
    "        ls.append('Expression_Array')\n",
    "    else:\n",
    "        ls.append(np.NaN)\n",
    "        \n",
    "ls_guesses.loc[:,'geoLibrary_strategy'] = ls\n",
    "# ls_guesses"
   ]
  },
  {
   "cell_type": "code",
   "execution_count": null,
   "metadata": {},
   "outputs": [],
   "source": [
    "# merge SRA attributes onto pmcData table\n",
    "mergedSRA = pd.merge(pmcData, slicedSRAAtt, how = 'left', on = 'converted_accession')\n",
    "mergedSRA = mergedSRA.drop_duplicates()\n",
    "\n",
    "# merge GEO attributes onto table of pmcData + SRA Attributes\n",
    "allFactors = pd.merge(mergedSRA, slicedGEOAtt, how = 'left', on = 'converted_accession')\n",
    "allFactors = pd.merge(allFactors, ls_guesses, how = 'left', left_on = 'geoHardware', right_on = 'hardware')\n",
    "\n",
    "allFactors = allFactors.dropna(subset = ['converted_accession'])"
   ]
  },
  {
   "cell_type": "code",
   "execution_count": null,
   "metadata": {},
   "outputs": [],
   "source": [
    "# clean up columns with factor for both SRA and GEO, rearrange columns\n",
    "allFactors['species'] = allFactors['sraSpecies'].fillna(allFactors['geoSpecies'])\n",
    "allFactors = allFactors.drop(labels = ['sraSpecies', 'geoSpecies'], axis = 1)\n",
    "\n",
    "allFactors['hardware'] = allFactors['sraHardware'].fillna(allFactors['geoHardware'])\n",
    "allFactors = allFactors.drop(labels = ['sraHardware', 'geoHardware'], axis = 1)\n",
    "\n",
    "allFactors['library_strategy'] = allFactors['sraLibrary_strategy'].fillna(allFactors['geoLibrary_strategy'])\n",
    "allFactors = allFactors.drop(labels = ['sraLibrary_strategy', 'geoLibrary_strategy'], axis = 1)\n",
    "\n",
    "allFactors['repository_date'] = allFactors['sraRelease'].fillna(allFactors['geoRelease'])\n",
    "allFactors = allFactors.drop(labels = ['sraRelease', 'geoRelease'], axis = 1)"
   ]
  },
  {
   "cell_type": "code",
   "execution_count": null,
   "metadata": {},
   "outputs": [
    {
     "data": {
      "text/html": [
       "<div>\n",
       "<style scoped>\n",
       "    .dataframe tbody tr th:only-of-type {\n",
       "        vertical-align: middle;\n",
       "    }\n",
       "\n",
       "    .dataframe tbody tr th {\n",
       "        vertical-align: top;\n",
       "    }\n",
       "\n",
       "    .dataframe thead th {\n",
       "        text-align: right;\n",
       "    }\n",
       "</style>\n",
       "<table border=\"1\" class=\"dataframe\">\n",
       "  <thead>\n",
       "    <tr style=\"text-align: right;\">\n",
       "      <th></th>\n",
       "      <th>journal</th>\n",
       "      <th>pmc_ID</th>\n",
       "      <th>accession</th>\n",
       "      <th>converted_accession</th>\n",
       "      <th>repository</th>\n",
       "      <th>Date</th>\n",
       "      <th>sraBases</th>\n",
       "      <th>sraAvg_length</th>\n",
       "      <th>sraAccess</th>\n",
       "      <th>hardware</th>\n",
       "      <th>species</th>\n",
       "      <th>library_strategy</th>\n",
       "      <th>repository_date</th>\n",
       "    </tr>\n",
       "  </thead>\n",
       "  <tbody>\n",
       "    <tr>\n",
       "      <th>0</th>\n",
       "      <td>Cell Death Dis</td>\n",
       "      <td>PMC10007764</td>\n",
       "      <td>SRR1782846</td>\n",
       "      <td>GSE57945</td>\n",
       "      <td>GEO</td>\n",
       "      <td>2023/2/10</td>\n",
       "      <td>NaN</td>\n",
       "      <td>NaN</td>\n",
       "      <td>NaN</td>\n",
       "      <td>high-throughput sequencing</td>\n",
       "      <td>Homo sapiens</td>\n",
       "      <td>RNA-Seq</td>\n",
       "      <td>2015-01-30</td>\n",
       "    </tr>\n",
       "    <tr>\n",
       "      <th>1</th>\n",
       "      <td>Sci Rep</td>\n",
       "      <td>PMC10007764</td>\n",
       "      <td>SRR1782847</td>\n",
       "      <td>GSE57945</td>\n",
       "      <td>GEO</td>\n",
       "      <td>2023/2/10</td>\n",
       "      <td>NaN</td>\n",
       "      <td>NaN</td>\n",
       "      <td>NaN</td>\n",
       "      <td>high-throughput sequencing</td>\n",
       "      <td>Homo sapiens</td>\n",
       "      <td>RNA-Seq</td>\n",
       "      <td>2015-01-30</td>\n",
       "    </tr>\n",
       "    <tr>\n",
       "      <th>2</th>\n",
       "      <td>Ren Fail</td>\n",
       "      <td>PMC10007764</td>\n",
       "      <td>SRR1782846</td>\n",
       "      <td>GSE57945</td>\n",
       "      <td>GEO</td>\n",
       "      <td>2023/2/10</td>\n",
       "      <td>NaN</td>\n",
       "      <td>NaN</td>\n",
       "      <td>NaN</td>\n",
       "      <td>high-throughput sequencing</td>\n",
       "      <td>Homo sapiens</td>\n",
       "      <td>RNA-Seq</td>\n",
       "      <td>2015-01-30</td>\n",
       "    </tr>\n",
       "    <tr>\n",
       "      <th>3</th>\n",
       "      <td>Clin Cardiol</td>\n",
       "      <td>PMC10007764</td>\n",
       "      <td>SRR1782847</td>\n",
       "      <td>GSE57945</td>\n",
       "      <td>GEO</td>\n",
       "      <td>2023/2/10</td>\n",
       "      <td>NaN</td>\n",
       "      <td>NaN</td>\n",
       "      <td>NaN</td>\n",
       "      <td>high-throughput sequencing</td>\n",
       "      <td>Homo sapiens</td>\n",
       "      <td>RNA-Seq</td>\n",
       "      <td>2015-01-30</td>\n",
       "    </tr>\n",
       "    <tr>\n",
       "      <th>4</th>\n",
       "      <td>Front Microbiol</td>\n",
       "      <td>PMC10010562</td>\n",
       "      <td>SRR8427519</td>\n",
       "      <td>GSE124904</td>\n",
       "      <td>GEO</td>\n",
       "      <td>2023/2/6</td>\n",
       "      <td>NaN</td>\n",
       "      <td>NaN</td>\n",
       "      <td>NaN</td>\n",
       "      <td>high-throughput sequencing</td>\n",
       "      <td>Mus musculus</td>\n",
       "      <td>RNA-Seq</td>\n",
       "      <td>2019-05-17</td>\n",
       "    </tr>\n",
       "  </tbody>\n",
       "</table>\n",
       "</div>"
      ],
      "text/plain": [
       "           journal       pmc_ID   accession converted_accession repository  \\\n",
       "0   Cell Death Dis  PMC10007764  SRR1782846            GSE57945        GEO   \n",
       "1          Sci Rep  PMC10007764  SRR1782847            GSE57945        GEO   \n",
       "2         Ren Fail  PMC10007764  SRR1782846            GSE57945        GEO   \n",
       "3     Clin Cardiol  PMC10007764  SRR1782847            GSE57945        GEO   \n",
       "4  Front Microbiol  PMC10010562  SRR8427519           GSE124904        GEO   \n",
       "\n",
       "        Date sraBases sraAvg_length sraAccess                    hardware  \\\n",
       "0  2023/2/10      NaN           NaN       NaN  high-throughput sequencing   \n",
       "1  2023/2/10      NaN           NaN       NaN  high-throughput sequencing   \n",
       "2  2023/2/10      NaN           NaN       NaN  high-throughput sequencing   \n",
       "3  2023/2/10      NaN           NaN       NaN  high-throughput sequencing   \n",
       "4   2023/2/6      NaN           NaN       NaN  high-throughput sequencing   \n",
       "\n",
       "        species library_strategy repository_date  \n",
       "0  Homo sapiens          RNA-Seq      2015-01-30  \n",
       "1  Homo sapiens          RNA-Seq      2015-01-30  \n",
       "2  Homo sapiens          RNA-Seq      2015-01-30  \n",
       "3  Homo sapiens          RNA-Seq      2015-01-30  \n",
       "4  Mus musculus          RNA-Seq      2019-05-17  "
      ]
     },
     "execution_count": 61,
     "metadata": {},
     "output_type": "execute_result"
    }
   ],
   "source": [
    "allFactors.head(5)"
   ]
  },
  {
   "cell_type": "code",
   "execution_count": null,
   "metadata": {},
   "outputs": [
    {
     "data": {
      "text/html": [
       "<div>\n",
       "<style scoped>\n",
       "    .dataframe tbody tr th:only-of-type {\n",
       "        vertical-align: middle;\n",
       "    }\n",
       "\n",
       "    .dataframe tbody tr th {\n",
       "        vertical-align: top;\n",
       "    }\n",
       "\n",
       "    .dataframe thead th {\n",
       "        text-align: right;\n",
       "    }\n",
       "</style>\n",
       "<table border=\"1\" class=\"dataframe\">\n",
       "  <thead>\n",
       "    <tr style=\"text-align: right;\">\n",
       "      <th></th>\n",
       "      <th>journal</th>\n",
       "      <th>pmc_ID</th>\n",
       "      <th>accession</th>\n",
       "      <th>converted_accession</th>\n",
       "      <th>repository</th>\n",
       "      <th>Date</th>\n",
       "      <th>repository_date</th>\n",
       "      <th>species</th>\n",
       "      <th>hardware</th>\n",
       "      <th>library_strategy</th>\n",
       "      <th>sraAvg_length</th>\n",
       "      <th>sraBases</th>\n",
       "      <th>sraAccess</th>\n",
       "    </tr>\n",
       "  </thead>\n",
       "  <tbody>\n",
       "    <tr>\n",
       "      <th>0</th>\n",
       "      <td>Cell Death Dis</td>\n",
       "      <td>PMC10007764</td>\n",
       "      <td>SRR1782846</td>\n",
       "      <td>GSE57945</td>\n",
       "      <td>GEO</td>\n",
       "      <td>2023/2/10</td>\n",
       "      <td>2015-01-30</td>\n",
       "      <td>Homo sapiens</td>\n",
       "      <td>high-throughput sequencing</td>\n",
       "      <td>RNA-Seq</td>\n",
       "      <td>NaN</td>\n",
       "      <td>NaN</td>\n",
       "      <td>NaN</td>\n",
       "    </tr>\n",
       "    <tr>\n",
       "      <th>1</th>\n",
       "      <td>Sci Rep</td>\n",
       "      <td>PMC10007764</td>\n",
       "      <td>SRR1782847</td>\n",
       "      <td>GSE57945</td>\n",
       "      <td>GEO</td>\n",
       "      <td>2023/2/10</td>\n",
       "      <td>2015-01-30</td>\n",
       "      <td>Homo sapiens</td>\n",
       "      <td>high-throughput sequencing</td>\n",
       "      <td>RNA-Seq</td>\n",
       "      <td>NaN</td>\n",
       "      <td>NaN</td>\n",
       "      <td>NaN</td>\n",
       "    </tr>\n",
       "    <tr>\n",
       "      <th>2</th>\n",
       "      <td>Ren Fail</td>\n",
       "      <td>PMC10007764</td>\n",
       "      <td>SRR1782846</td>\n",
       "      <td>GSE57945</td>\n",
       "      <td>GEO</td>\n",
       "      <td>2023/2/10</td>\n",
       "      <td>2015-01-30</td>\n",
       "      <td>Homo sapiens</td>\n",
       "      <td>high-throughput sequencing</td>\n",
       "      <td>RNA-Seq</td>\n",
       "      <td>NaN</td>\n",
       "      <td>NaN</td>\n",
       "      <td>NaN</td>\n",
       "    </tr>\n",
       "    <tr>\n",
       "      <th>3</th>\n",
       "      <td>Clin Cardiol</td>\n",
       "      <td>PMC10007764</td>\n",
       "      <td>SRR1782847</td>\n",
       "      <td>GSE57945</td>\n",
       "      <td>GEO</td>\n",
       "      <td>2023/2/10</td>\n",
       "      <td>2015-01-30</td>\n",
       "      <td>Homo sapiens</td>\n",
       "      <td>high-throughput sequencing</td>\n",
       "      <td>RNA-Seq</td>\n",
       "      <td>NaN</td>\n",
       "      <td>NaN</td>\n",
       "      <td>NaN</td>\n",
       "    </tr>\n",
       "    <tr>\n",
       "      <th>4</th>\n",
       "      <td>Front Microbiol</td>\n",
       "      <td>PMC10010562</td>\n",
       "      <td>SRR8427519</td>\n",
       "      <td>GSE124904</td>\n",
       "      <td>GEO</td>\n",
       "      <td>2023/2/6</td>\n",
       "      <td>2019-05-17</td>\n",
       "      <td>Mus musculus</td>\n",
       "      <td>high-throughput sequencing</td>\n",
       "      <td>RNA-Seq</td>\n",
       "      <td>NaN</td>\n",
       "      <td>NaN</td>\n",
       "      <td>NaN</td>\n",
       "    </tr>\n",
       "    <tr>\n",
       "      <th>...</th>\n",
       "      <td>...</td>\n",
       "      <td>...</td>\n",
       "      <td>...</td>\n",
       "      <td>...</td>\n",
       "      <td>...</td>\n",
       "      <td>...</td>\n",
       "      <td>...</td>\n",
       "      <td>...</td>\n",
       "      <td>...</td>\n",
       "      <td>...</td>\n",
       "      <td>...</td>\n",
       "      <td>...</td>\n",
       "      <td>...</td>\n",
       "    </tr>\n",
       "    <tr>\n",
       "      <th>1409798</th>\n",
       "      <td>Eur Urol Open Sci</td>\n",
       "      <td>PMC11260452</td>\n",
       "      <td>ERR195223</td>\n",
       "      <td>ERP001824</td>\n",
       "      <td>SRA</td>\n",
       "      <td>NaN</td>\n",
       "      <td>2013-01-18</td>\n",
       "      <td>Homo sapiens</td>\n",
       "      <td>Illumina Genome Analyzer IIx</td>\n",
       "      <td>OTHER</td>\n",
       "      <td>20</td>\n",
       "      <td>2481880</td>\n",
       "      <td>public</td>\n",
       "    </tr>\n",
       "    <tr>\n",
       "      <th>1409799</th>\n",
       "      <td>Cureus</td>\n",
       "      <td>PMC11260452</td>\n",
       "      <td>ERR195224</td>\n",
       "      <td>ERP001824</td>\n",
       "      <td>SRA</td>\n",
       "      <td>NaN</td>\n",
       "      <td>2013-01-18</td>\n",
       "      <td>Homo sapiens</td>\n",
       "      <td>Illumina Genome Analyzer IIx</td>\n",
       "      <td>OTHER</td>\n",
       "      <td>20</td>\n",
       "      <td>2481880</td>\n",
       "      <td>public</td>\n",
       "    </tr>\n",
       "    <tr>\n",
       "      <th>1409800</th>\n",
       "      <td>ESMO Open</td>\n",
       "      <td>PMC11260452</td>\n",
       "      <td>GSM495500</td>\n",
       "      <td>GSE19836</td>\n",
       "      <td>GEO</td>\n",
       "      <td>NaN</td>\n",
       "      <td>2010-12-06</td>\n",
       "      <td>Mus musculus</td>\n",
       "      <td>in situ oligonucleotide</td>\n",
       "      <td>Expression_Array</td>\n",
       "      <td>NaN</td>\n",
       "      <td>NaN</td>\n",
       "      <td>NaN</td>\n",
       "    </tr>\n",
       "    <tr>\n",
       "      <th>1409801</th>\n",
       "      <td>Cureus</td>\n",
       "      <td>PMC11260452</td>\n",
       "      <td>GSM495500</td>\n",
       "      <td>GSE19836</td>\n",
       "      <td>GEO</td>\n",
       "      <td>NaN</td>\n",
       "      <td>2010-12-06</td>\n",
       "      <td>Mus musculus</td>\n",
       "      <td>in situ oligonucleotide</td>\n",
       "      <td>Expression_Array</td>\n",
       "      <td>NaN</td>\n",
       "      <td>NaN</td>\n",
       "      <td>NaN</td>\n",
       "    </tr>\n",
       "    <tr>\n",
       "      <th>1409802</th>\n",
       "      <td>Nucleic Acids Res</td>\n",
       "      <td>PMC11260452</td>\n",
       "      <td>GSM495500</td>\n",
       "      <td>GSE19836</td>\n",
       "      <td>GEO</td>\n",
       "      <td>NaN</td>\n",
       "      <td>2010-12-06</td>\n",
       "      <td>Mus musculus</td>\n",
       "      <td>in situ oligonucleotide</td>\n",
       "      <td>Expression_Array</td>\n",
       "      <td>NaN</td>\n",
       "      <td>NaN</td>\n",
       "      <td>NaN</td>\n",
       "    </tr>\n",
       "  </tbody>\n",
       "</table>\n",
       "<p>1409803 rows × 13 columns</p>\n",
       "</div>"
      ],
      "text/plain": [
       "                   journal       pmc_ID   accession converted_accession  \\\n",
       "0           Cell Death Dis  PMC10007764  SRR1782846            GSE57945   \n",
       "1                  Sci Rep  PMC10007764  SRR1782847            GSE57945   \n",
       "2                 Ren Fail  PMC10007764  SRR1782846            GSE57945   \n",
       "3             Clin Cardiol  PMC10007764  SRR1782847            GSE57945   \n",
       "4          Front Microbiol  PMC10010562  SRR8427519           GSE124904   \n",
       "...                    ...          ...         ...                 ...   \n",
       "1409798  Eur Urol Open Sci  PMC11260452   ERR195223           ERP001824   \n",
       "1409799             Cureus  PMC11260452   ERR195224           ERP001824   \n",
       "1409800          ESMO Open  PMC11260452   GSM495500            GSE19836   \n",
       "1409801             Cureus  PMC11260452   GSM495500            GSE19836   \n",
       "1409802  Nucleic Acids Res  PMC11260452   GSM495500            GSE19836   \n",
       "\n",
       "        repository       Date repository_date       species  \\\n",
       "0              GEO  2023/2/10      2015-01-30  Homo sapiens   \n",
       "1              GEO  2023/2/10      2015-01-30  Homo sapiens   \n",
       "2              GEO  2023/2/10      2015-01-30  Homo sapiens   \n",
       "3              GEO  2023/2/10      2015-01-30  Homo sapiens   \n",
       "4              GEO   2023/2/6      2019-05-17  Mus musculus   \n",
       "...            ...        ...             ...           ...   \n",
       "1409798        SRA        NaN      2013-01-18  Homo sapiens   \n",
       "1409799        SRA        NaN      2013-01-18  Homo sapiens   \n",
       "1409800        GEO        NaN      2010-12-06  Mus musculus   \n",
       "1409801        GEO        NaN      2010-12-06  Mus musculus   \n",
       "1409802        GEO        NaN      2010-12-06  Mus musculus   \n",
       "\n",
       "                             hardware  library_strategy sraAvg_length  \\\n",
       "0          high-throughput sequencing           RNA-Seq           NaN   \n",
       "1          high-throughput sequencing           RNA-Seq           NaN   \n",
       "2          high-throughput sequencing           RNA-Seq           NaN   \n",
       "3          high-throughput sequencing           RNA-Seq           NaN   \n",
       "4          high-throughput sequencing           RNA-Seq           NaN   \n",
       "...                               ...               ...           ...   \n",
       "1409798  Illumina Genome Analyzer IIx             OTHER            20   \n",
       "1409799  Illumina Genome Analyzer IIx             OTHER            20   \n",
       "1409800       in situ oligonucleotide  Expression_Array           NaN   \n",
       "1409801       in situ oligonucleotide  Expression_Array           NaN   \n",
       "1409802       in situ oligonucleotide  Expression_Array           NaN   \n",
       "\n",
       "        sraBases sraAccess  \n",
       "0            NaN       NaN  \n",
       "1            NaN       NaN  \n",
       "2            NaN       NaN  \n",
       "3            NaN       NaN  \n",
       "4            NaN       NaN  \n",
       "...          ...       ...  \n",
       "1409798  2481880    public  \n",
       "1409799  2481880    public  \n",
       "1409800      NaN       NaN  \n",
       "1409801      NaN       NaN  \n",
       "1409802      NaN       NaN  \n",
       "\n",
       "[1409803 rows x 13 columns]"
      ]
     },
     "execution_count": 62,
     "metadata": {},
     "output_type": "execute_result"
    }
   ],
   "source": [
    "cols = ['journal', 'pmc_ID', 'accession', 'converted_accession', 'repository', \n",
    "        'Date', 'repository_date', 'species', \n",
    "        'hardware', 'library_strategy', 'sraAvg_length', 'sraBases', 'sraAccess']\n",
    "\n",
    "allFactors = allFactors[cols]\n",
    "allFactors"
   ]
  },
  {
   "cell_type": "code",
   "execution_count": null,
   "metadata": {},
   "outputs": [],
   "source": [
    "# save to .csv\n",
    "allFactors.to_csv('../data/metadata_matrix_raw.csv', index = False)"
   ]
  }
 ],
 "metadata": {
  "kernelspec": {
   "display_name": "base",
   "language": "python",
   "name": "python3"
  },
  "language_info": {
   "codemirror_mode": {
    "name": "ipython",
    "version": 3
   },
   "file_extension": ".py",
   "mimetype": "text/x-python",
   "name": "python",
   "nbconvert_exporter": "python",
   "pygments_lexer": "ipython3",
   "version": "3.8.1"
  }
 },
 "nbformat": 4,
 "nbformat_minor": 2
}
